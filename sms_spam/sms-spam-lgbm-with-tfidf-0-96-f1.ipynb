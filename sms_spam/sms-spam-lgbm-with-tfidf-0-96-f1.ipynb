{
 "cells": [
  {
   "cell_type": "code",
   "execution_count": 1,
   "id": "5d3d20f1",
   "metadata": {
    "_cell_guid": "b1076dfc-b9ad-4769-8c92-a6c4dae69d19",
    "_uuid": "8f2839f25d086af736a60e9eeb907d3b93b6e0e5",
    "execution": {
     "iopub.execute_input": "2022-01-18T02:20:57.686103Z",
     "iopub.status.busy": "2022-01-18T02:20:57.685180Z",
     "iopub.status.idle": "2022-01-18T02:20:59.559582Z",
     "shell.execute_reply": "2022-01-18T02:20:59.558883Z",
     "shell.execute_reply.started": "2022-01-18T02:19:40.830946Z"
    },
    "papermill": {
     "duration": 1.907409,
     "end_time": "2022-01-18T02:20:59.559761",
     "exception": false,
     "start_time": "2022-01-18T02:20:57.652352",
     "status": "completed"
    },
    "tags": []
   },
   "outputs": [],
   "source": [
    "import pandas as pd\n",
    "import numpy as np\n",
    "import os\n",
    "import random\n",
    "import re\n",
    "import nltk\n",
    "import joblib\n",
    "\n",
    "from tqdm.notebook import tqdm\n",
    "tqdm.pandas()\n",
    "\n",
    "import matplotlib.pyplot as plt\n",
    "\n",
    "from sklearn import model_selection\n",
    "from sklearn import feature_extraction\n",
    "from sklearn import metrics"
   ]
  },
  {
   "cell_type": "code",
   "execution_count": 2,
   "id": "b8e2b5a7",
   "metadata": {
    "execution": {
     "iopub.execute_input": "2022-01-18T02:20:59.609306Z",
     "iopub.status.busy": "2022-01-18T02:20:59.608148Z",
     "iopub.status.idle": "2022-01-18T02:20:59.610378Z",
     "shell.execute_reply": "2022-01-18T02:20:59.610938Z",
     "shell.execute_reply.started": "2022-01-18T02:19:42.562062Z"
    },
    "papermill": {
     "duration": 0.027642,
     "end_time": "2022-01-18T02:20:59.611121",
     "exception": false,
     "start_time": "2022-01-18T02:20:59.583479",
     "status": "completed"
    },
    "tags": []
   },
   "outputs": [],
   "source": [
    "config = {\n",
    "    \"seed\": 2021,\n",
    "    \"num_folds\": 5,\n",
    "    \"max_features\": 5000,\n",
    "    \"print_report\": True\n",
    "}"
   ]
  },
  {
   "cell_type": "code",
   "execution_count": 3,
   "id": "63e183f3",
   "metadata": {
    "execution": {
     "iopub.execute_input": "2022-01-18T02:20:59.660593Z",
     "iopub.status.busy": "2022-01-18T02:20:59.659523Z",
     "iopub.status.idle": "2022-01-18T02:20:59.664626Z",
     "shell.execute_reply": "2022-01-18T02:20:59.665244Z",
     "shell.execute_reply.started": "2022-01-18T02:19:42.567383Z"
    },
    "papermill": {
     "duration": 0.02969,
     "end_time": "2022-01-18T02:20:59.665433",
     "exception": false,
     "start_time": "2022-01-18T02:20:59.635743",
     "status": "completed"
    },
    "tags": []
   },
   "outputs": [],
   "source": [
    "def set_random_seed(random_seed):\n",
    "    random.seed(random_seed)\n",
    "    np.random.seed(random_seed)\n",
    "    os.environ[\"PYTHONHASHSEED\"] = str(random_seed)\n",
    "\n",
    "set_random_seed(config['seed'])"
   ]
  },
  {
   "cell_type": "code",
   "execution_count": 4,
   "id": "f497326c",
   "metadata": {
    "execution": {
     "iopub.execute_input": "2022-01-18T02:20:59.708860Z",
     "iopub.status.busy": "2022-01-18T02:20:59.707815Z",
     "iopub.status.idle": "2022-01-18T02:20:59.714772Z",
     "shell.execute_reply": "2022-01-18T02:20:59.715336Z",
     "shell.execute_reply.started": "2022-01-18T02:19:42.580988Z"
    },
    "papermill": {
     "duration": 0.030258,
     "end_time": "2022-01-18T02:20:59.715532",
     "exception": false,
     "start_time": "2022-01-18T02:20:59.685274",
     "status": "completed"
    },
    "tags": []
   },
   "outputs": [],
   "source": [
    "def create_folds(data):\n",
    "    data[\"kfold\"] = -1\n",
    "    data = data.sample(frac=1, random_state=config['seed']).reset_index(drop=True)\n",
    "    \n",
    "    y = data.target.values\n",
    "\n",
    "    kf = model_selection.StratifiedKFold(n_splits=config['num_folds'], random_state=config['seed'], shuffle=True)\n",
    "    for f, (t_, v_) in enumerate(kf.split(X=data, y=y)):\n",
    "        data.loc[v_, 'kfold'] = f  \n",
    "    \n",
    "    return data"
   ]
  },
  {
   "cell_type": "code",
   "execution_count": 5,
   "id": "01f989e1",
   "metadata": {
    "execution": {
     "iopub.execute_input": "2022-01-18T02:20:59.775293Z",
     "iopub.status.busy": "2022-01-18T02:20:59.774494Z",
     "iopub.status.idle": "2022-01-18T02:20:59.837580Z",
     "shell.execute_reply": "2022-01-18T02:20:59.838176Z",
     "shell.execute_reply.started": "2022-01-18T02:19:42.592183Z"
    },
    "papermill": {
     "duration": 0.099572,
     "end_time": "2022-01-18T02:20:59.838356",
     "exception": false,
     "start_time": "2022-01-18T02:20:59.738784",
     "status": "completed"
    },
    "tags": []
   },
   "outputs": [
    {
     "data": {
      "text/plain": [
       "(5572, 2)"
      ]
     },
     "execution_count": 5,
     "metadata": {},
     "output_type": "execute_result"
    }
   ],
   "source": [
    "df = pd.read_csv(\"../input/smsspamcollection/spam.csv\", encoding='latin-1')\n",
    "\n",
    "df = df.rename(columns={\"v1\": \"target\", \"v2\": \"message_text\"})\n",
    "df = df.drop([\"Unnamed: 2\", \"Unnamed: 3\", \"Unnamed: 4\"], axis=1)\n",
    "df.shape"
   ]
  },
  {
   "cell_type": "code",
   "execution_count": 6,
   "id": "7342dc1a",
   "metadata": {
    "execution": {
     "iopub.execute_input": "2022-01-18T02:20:59.884563Z",
     "iopub.status.busy": "2022-01-18T02:20:59.883510Z",
     "iopub.status.idle": "2022-01-18T02:20:59.897465Z",
     "shell.execute_reply": "2022-01-18T02:20:59.898161Z",
     "shell.execute_reply.started": "2022-01-18T02:19:42.663148Z"
    },
    "papermill": {
     "duration": 0.03876,
     "end_time": "2022-01-18T02:20:59.898351",
     "exception": false,
     "start_time": "2022-01-18T02:20:59.859591",
     "status": "completed"
    },
    "tags": []
   },
   "outputs": [
    {
     "data": {
      "text/html": [
       "<div>\n",
       "<style scoped>\n",
       "    .dataframe tbody tr th:only-of-type {\n",
       "        vertical-align: middle;\n",
       "    }\n",
       "\n",
       "    .dataframe tbody tr th {\n",
       "        vertical-align: top;\n",
       "    }\n",
       "\n",
       "    .dataframe thead th {\n",
       "        text-align: right;\n",
       "    }\n",
       "</style>\n",
       "<table border=\"1\" class=\"dataframe\">\n",
       "  <thead>\n",
       "    <tr style=\"text-align: right;\">\n",
       "      <th></th>\n",
       "      <th>target</th>\n",
       "      <th>message_text</th>\n",
       "    </tr>\n",
       "  </thead>\n",
       "  <tbody>\n",
       "    <tr>\n",
       "      <th>0</th>\n",
       "      <td>ham</td>\n",
       "      <td>Go until jurong point, crazy.. Available only ...</td>\n",
       "    </tr>\n",
       "    <tr>\n",
       "      <th>1</th>\n",
       "      <td>ham</td>\n",
       "      <td>Ok lar... Joking wif u oni...</td>\n",
       "    </tr>\n",
       "    <tr>\n",
       "      <th>2</th>\n",
       "      <td>spam</td>\n",
       "      <td>Free entry in 2 a wkly comp to win FA Cup fina...</td>\n",
       "    </tr>\n",
       "    <tr>\n",
       "      <th>3</th>\n",
       "      <td>ham</td>\n",
       "      <td>U dun say so early hor... U c already then say...</td>\n",
       "    </tr>\n",
       "    <tr>\n",
       "      <th>4</th>\n",
       "      <td>ham</td>\n",
       "      <td>Nah I don't think he goes to usf, he lives aro...</td>\n",
       "    </tr>\n",
       "  </tbody>\n",
       "</table>\n",
       "</div>"
      ],
      "text/plain": [
       "  target                                       message_text\n",
       "0    ham  Go until jurong point, crazy.. Available only ...\n",
       "1    ham                      Ok lar... Joking wif u oni...\n",
       "2   spam  Free entry in 2 a wkly comp to win FA Cup fina...\n",
       "3    ham  U dun say so early hor... U c already then say...\n",
       "4    ham  Nah I don't think he goes to usf, he lives aro..."
      ]
     },
     "execution_count": 6,
     "metadata": {},
     "output_type": "execute_result"
    }
   ],
   "source": [
    "df.head()"
   ]
  },
  {
   "cell_type": "code",
   "execution_count": 7,
   "id": "7f80550e",
   "metadata": {
    "execution": {
     "iopub.execute_input": "2022-01-18T02:20:59.946339Z",
     "iopub.status.busy": "2022-01-18T02:20:59.945510Z",
     "iopub.status.idle": "2022-01-18T02:20:59.954118Z",
     "shell.execute_reply": "2022-01-18T02:20:59.954634Z",
     "shell.execute_reply.started": "2022-01-18T02:19:42.678550Z"
    },
    "papermill": {
     "duration": 0.034748,
     "end_time": "2022-01-18T02:20:59.954843",
     "exception": false,
     "start_time": "2022-01-18T02:20:59.920095",
     "status": "completed"
    },
    "tags": []
   },
   "outputs": [
    {
     "data": {
      "text/plain": [
       "'Go until jurong point, crazy.. Available only in bugis n great world la e buffet... Cine there got amore wat...'"
      ]
     },
     "execution_count": 7,
     "metadata": {},
     "output_type": "execute_result"
    }
   ],
   "source": [
    "df.message_text.iloc[0]"
   ]
  },
  {
   "cell_type": "code",
   "execution_count": 8,
   "id": "2171c9d0",
   "metadata": {
    "execution": {
     "iopub.execute_input": "2022-01-18T02:21:00.001300Z",
     "iopub.status.busy": "2022-01-18T02:21:00.000562Z",
     "iopub.status.idle": "2022-01-18T02:21:00.009413Z",
     "shell.execute_reply": "2022-01-18T02:21:00.010237Z",
     "shell.execute_reply.started": "2022-01-18T02:19:42.689266Z"
    },
    "papermill": {
     "duration": 0.034194,
     "end_time": "2022-01-18T02:21:00.010441",
     "exception": false,
     "start_time": "2022-01-18T02:20:59.976247",
     "status": "completed"
    },
    "tags": []
   },
   "outputs": [],
   "source": [
    "def clean_text(text):\n",
    "    \n",
    "    # convert to lower\n",
    "    text = text.lower()\n",
    "    \n",
    "    # only keep alpha-numeric characters\n",
    "    text_alpha_num = re.sub(\"[^0-9a-z]\", \" \", text)\n",
    "    \n",
    "    # remove stopwords and use stemming\n",
    "    stemmer = nltk.stem.PorterStemmer()\n",
    "    stopwords_list = nltk.corpus.stopwords.words(\"english\")\n",
    "    \n",
    "    word_list = nltk.tokenize.word_tokenize(text_alpha_num)\n",
    "    words = [stemmer.stem(y) for y in word_list if y]\n",
    "    \n",
    "    text_clean = \" \".join(words)\n",
    "    \n",
    "    return text_clean"
   ]
  },
  {
   "cell_type": "code",
   "execution_count": 9,
   "id": "0ce567fb",
   "metadata": {
    "execution": {
     "iopub.execute_input": "2022-01-18T02:21:00.059663Z",
     "iopub.status.busy": "2022-01-18T02:21:00.058648Z",
     "iopub.status.idle": "2022-01-18T02:21:04.653628Z",
     "shell.execute_reply": "2022-01-18T02:21:04.653096Z",
     "shell.execute_reply.started": "2022-01-18T02:19:42.699846Z"
    },
    "papermill": {
     "duration": 4.620649,
     "end_time": "2022-01-18T02:21:04.653773",
     "exception": false,
     "start_time": "2022-01-18T02:21:00.033124",
     "status": "completed"
    },
    "tags": []
   },
   "outputs": [
    {
     "data": {
      "application/vnd.jupyter.widget-view+json": {
       "model_id": "9dcd10591d64469c9185accc77c1e4e3",
       "version_major": 2,
       "version_minor": 0
      },
      "text/plain": [
       "  0%|          | 0/5572 [00:00<?, ?it/s]"
      ]
     },
     "metadata": {},
     "output_type": "display_data"
    }
   ],
   "source": [
    "df['message_text'] = df['message_text'].progress_apply(clean_text)\n",
    "\n",
    "target_dict = {\n",
    "    \"ham\": 0,\n",
    "    \"spam\": 1\n",
    "}\n",
    "\n",
    "df['target'] = df['target'].map(target_dict)"
   ]
  },
  {
   "cell_type": "code",
   "execution_count": 10,
   "id": "e499cc5b",
   "metadata": {
    "execution": {
     "iopub.execute_input": "2022-01-18T02:21:04.710560Z",
     "iopub.status.busy": "2022-01-18T02:21:04.709618Z",
     "iopub.status.idle": "2022-01-18T02:21:04.713877Z",
     "shell.execute_reply": "2022-01-18T02:21:04.713191Z",
     "shell.execute_reply.started": "2022-01-18T02:19:47.246770Z"
    },
    "papermill": {
     "duration": 0.037552,
     "end_time": "2022-01-18T02:21:04.714027",
     "exception": false,
     "start_time": "2022-01-18T02:21:04.676475",
     "status": "completed"
    },
    "tags": []
   },
   "outputs": [
    {
     "data": {
      "text/html": [
       "<div>\n",
       "<style scoped>\n",
       "    .dataframe tbody tr th:only-of-type {\n",
       "        vertical-align: middle;\n",
       "    }\n",
       "\n",
       "    .dataframe tbody tr th {\n",
       "        vertical-align: top;\n",
       "    }\n",
       "\n",
       "    .dataframe thead th {\n",
       "        text-align: right;\n",
       "    }\n",
       "</style>\n",
       "<table border=\"1\" class=\"dataframe\">\n",
       "  <thead>\n",
       "    <tr style=\"text-align: right;\">\n",
       "      <th></th>\n",
       "      <th>target</th>\n",
       "      <th>message_text</th>\n",
       "    </tr>\n",
       "  </thead>\n",
       "  <tbody>\n",
       "    <tr>\n",
       "      <th>0</th>\n",
       "      <td>0</td>\n",
       "      <td>go until jurong point crazi avail onli in bugi...</td>\n",
       "    </tr>\n",
       "    <tr>\n",
       "      <th>1</th>\n",
       "      <td>0</td>\n",
       "      <td>ok lar joke wif u oni</td>\n",
       "    </tr>\n",
       "    <tr>\n",
       "      <th>2</th>\n",
       "      <td>1</td>\n",
       "      <td>free entri in 2 a wkli comp to win fa cup fina...</td>\n",
       "    </tr>\n",
       "    <tr>\n",
       "      <th>3</th>\n",
       "      <td>0</td>\n",
       "      <td>u dun say so earli hor u c alreadi then say</td>\n",
       "    </tr>\n",
       "    <tr>\n",
       "      <th>4</th>\n",
       "      <td>0</td>\n",
       "      <td>nah i don t think he goe to usf he live around...</td>\n",
       "    </tr>\n",
       "  </tbody>\n",
       "</table>\n",
       "</div>"
      ],
      "text/plain": [
       "   target                                       message_text\n",
       "0       0  go until jurong point crazi avail onli in bugi...\n",
       "1       0                              ok lar joke wif u oni\n",
       "2       1  free entri in 2 a wkli comp to win fa cup fina...\n",
       "3       0        u dun say so earli hor u c alreadi then say\n",
       "4       0  nah i don t think he goe to usf he live around..."
      ]
     },
     "execution_count": 10,
     "metadata": {},
     "output_type": "execute_result"
    }
   ],
   "source": [
    "df.head()"
   ]
  },
  {
   "cell_type": "code",
   "execution_count": 11,
   "id": "0471dcfa",
   "metadata": {
    "execution": {
     "iopub.execute_input": "2022-01-18T02:21:04.765509Z",
     "iopub.status.busy": "2022-01-18T02:21:04.764773Z",
     "iopub.status.idle": "2022-01-18T02:21:04.768774Z",
     "shell.execute_reply": "2022-01-18T02:21:04.768169Z",
     "shell.execute_reply.started": "2022-01-18T02:19:47.260122Z"
    },
    "papermill": {
     "duration": 0.032762,
     "end_time": "2022-01-18T02:21:04.768932",
     "exception": false,
     "start_time": "2022-01-18T02:21:04.736170",
     "status": "completed"
    },
    "tags": []
   },
   "outputs": [
    {
     "data": {
      "text/plain": [
       "'go until jurong point crazi avail onli in bugi n great world la e buffet cine there got amor wat'"
      ]
     },
     "execution_count": 11,
     "metadata": {},
     "output_type": "execute_result"
    }
   ],
   "source": [
    "df.message_text.iloc[0]"
   ]
  },
  {
   "cell_type": "code",
   "execution_count": 12,
   "id": "c25d86b5",
   "metadata": {
    "execution": {
     "iopub.execute_input": "2022-01-18T02:21:04.821230Z",
     "iopub.status.busy": "2022-01-18T02:21:04.817721Z",
     "iopub.status.idle": "2022-01-18T02:21:04.837839Z",
     "shell.execute_reply": "2022-01-18T02:21:04.836846Z",
     "shell.execute_reply.started": "2022-01-18T02:19:47.269088Z"
    },
    "papermill": {
     "duration": 0.046682,
     "end_time": "2022-01-18T02:21:04.838006",
     "exception": false,
     "start_time": "2022-01-18T02:21:04.791324",
     "status": "completed"
    },
    "tags": []
   },
   "outputs": [
    {
     "data": {
      "text/plain": [
       "((4457, 2), (1115, 2))"
      ]
     },
     "execution_count": 12,
     "metadata": {},
     "output_type": "execute_result"
    }
   ],
   "source": [
    "# split data into train and test\n",
    "\n",
    "train, test = model_selection.train_test_split(df, test_size=0.2, shuffle=True, random_state=config['seed'], stratify=df['target'])\n",
    "\n",
    "train.shape, test.shape"
   ]
  },
  {
   "cell_type": "code",
   "execution_count": 13,
   "id": "1052dfcb",
   "metadata": {
    "execution": {
     "iopub.execute_input": "2022-01-18T02:21:04.891492Z",
     "iopub.status.busy": "2022-01-18T02:21:04.890659Z",
     "iopub.status.idle": "2022-01-18T02:21:04.894188Z",
     "shell.execute_reply": "2022-01-18T02:21:04.893478Z",
     "shell.execute_reply.started": "2022-01-18T02:19:47.291893Z"
    },
    "papermill": {
     "duration": 0.032435,
     "end_time": "2022-01-18T02:21:04.894339",
     "exception": false,
     "start_time": "2022-01-18T02:21:04.861904",
     "status": "completed"
    },
    "tags": []
   },
   "outputs": [],
   "source": [
    "# reset train and test index\n",
    "train = train.reset_index(drop=True)\n",
    "test = test.reset_index(drop=True)"
   ]
  },
  {
   "cell_type": "code",
   "execution_count": 14,
   "id": "40ea6dfb",
   "metadata": {
    "execution": {
     "iopub.execute_input": "2022-01-18T02:21:04.946382Z",
     "iopub.status.busy": "2022-01-18T02:21:04.945680Z",
     "iopub.status.idle": "2022-01-18T02:21:04.949488Z",
     "shell.execute_reply": "2022-01-18T02:21:04.948935Z",
     "shell.execute_reply.started": "2022-01-18T02:19:47.297957Z"
    },
    "papermill": {
     "duration": 0.03275,
     "end_time": "2022-01-18T02:21:04.949630",
     "exception": false,
     "start_time": "2022-01-18T02:21:04.916880",
     "status": "completed"
    },
    "tags": []
   },
   "outputs": [],
   "source": [
    "def vectorize(train_text, test_text):\n",
    "    \n",
    "    vectorizer = feature_extraction.text.TfidfVectorizer(max_features=config['max_features'], ngram_range=(1, 2))\n",
    "    \n",
    "    train_vectors = vectorizer.fit_transform(train_text).toarray()\n",
    "    test_vectors = vectorizer.transform(test_text).toarray()\n",
    "    \n",
    "    return train_vectors, test_vectors"
   ]
  },
  {
   "cell_type": "code",
   "execution_count": 15,
   "id": "11d82960",
   "metadata": {
    "execution": {
     "iopub.execute_input": "2022-01-18T02:21:05.001517Z",
     "iopub.status.busy": "2022-01-18T02:21:05.000836Z",
     "iopub.status.idle": "2022-01-18T02:21:06.306599Z",
     "shell.execute_reply": "2022-01-18T02:21:06.305927Z",
     "shell.execute_reply.started": "2022-01-18T02:19:47.309121Z"
    },
    "papermill": {
     "duration": 1.334655,
     "end_time": "2022-01-18T02:21:06.306746",
     "exception": false,
     "start_time": "2022-01-18T02:21:04.972091",
     "status": "completed"
    },
    "tags": []
   },
   "outputs": [
    {
     "data": {
      "text/html": [
       "<style type='text/css'>\n",
       ".datatable table.frame { margin-bottom: 0; }\n",
       ".datatable table.frame thead { border-bottom: none; }\n",
       ".datatable table.frame tr.coltypes td {  color: #FFFFFF;  line-height: 6px;  padding: 0 0.5em;}\n",
       ".datatable .bool    { background: #DDDD99; }\n",
       ".datatable .object  { background: #565656; }\n",
       ".datatable .int     { background: #5D9E5D; }\n",
       ".datatable .float   { background: #4040CC; }\n",
       ".datatable .str     { background: #CC4040; }\n",
       ".datatable .time    { background: #40CC40; }\n",
       ".datatable .row_index {  background: var(--jp-border-color3);  border-right: 1px solid var(--jp-border-color0);  color: var(--jp-ui-font-color3);  font-size: 9px;}\n",
       ".datatable .frame tbody td { text-align: left; }\n",
       ".datatable .frame tr.coltypes .row_index {  background: var(--jp-border-color0);}\n",
       ".datatable th:nth-child(2) { padding-left: 12px; }\n",
       ".datatable .hellipsis {  color: var(--jp-cell-editor-border-color);}\n",
       ".datatable .vellipsis {  background: var(--jp-layout-color0);  color: var(--jp-cell-editor-border-color);}\n",
       ".datatable .na {  color: var(--jp-cell-editor-border-color);  font-size: 80%;}\n",
       ".datatable .sp {  opacity: 0.25;}\n",
       ".datatable .footer { font-size: 9px; }\n",
       ".datatable .frame_dimensions {  background: var(--jp-border-color3);  border-top: 1px solid var(--jp-border-color0);  color: var(--jp-ui-font-color3);  display: inline-block;  opacity: 0.6;  padding: 1px 10px 1px 5px;}\n",
       "</style>\n"
      ],
      "text/plain": [
       "<IPython.core.display.HTML object>"
      ]
     },
     "metadata": {},
     "output_type": "display_data"
    }
   ],
   "source": [
    "import lightgbm as lgbm\n",
    "import xgboost as xgb\n",
    "from sklearn import tree, ensemble\n",
    "\n",
    "model_dispatcher = {\n",
    "    \"lgbm\": lgbm.LGBMClassifier(random_state=config['seed']),\n",
    "    \"xgboost\": xgb.XGBClassifier(verbose=0),\n",
    "    \"dt\": tree.DecisionTreeClassifier(max_depth=12),\n",
    "    \"rf\": ensemble.RandomForestClassifier()\n",
    "}"
   ]
  },
  {
   "cell_type": "code",
   "execution_count": 16,
   "id": "0559a832",
   "metadata": {
    "execution": {
     "iopub.execute_input": "2022-01-18T02:21:06.362670Z",
     "iopub.status.busy": "2022-01-18T02:21:06.361769Z",
     "iopub.status.idle": "2022-01-18T02:21:06.364866Z",
     "shell.execute_reply": "2022-01-18T02:21:06.364252Z",
     "shell.execute_reply.started": "2022-01-18T02:19:48.499693Z"
    },
    "papermill": {
     "duration": 0.035109,
     "end_time": "2022-01-18T02:21:06.365151",
     "exception": false,
     "start_time": "2022-01-18T02:21:06.330042",
     "status": "completed"
    },
    "tags": []
   },
   "outputs": [],
   "source": [
    "def run(train, fold, model_name):\n",
    "    \n",
    "    train_data = train[train['kfold'] != fold].reset_index(drop=True)\n",
    "    valid_data = train[train['kfold'] == fold].reset_index(drop=True)\n",
    "    \n",
    "    x_train = train_data.drop(['kfold', 'target', 'message_text'], axis=1)\n",
    "    y_train = train_data['target'].values\n",
    "    \n",
    "    x_valid = valid_data.drop(['kfold', 'target', 'message_text'], axis=1)\n",
    "    y_valid = valid_data['target'].values\n",
    "    \n",
    "    model = model_dispatcher[model_name]\n",
    "    \n",
    "    model.fit(x_train, y_train)\n",
    "    \n",
    "    y_preds = model.predict(x_valid)\n",
    "    \n",
    "    score = metrics.f1_score(y_valid, y_preds, average='macro')\n",
    "    \n",
    "    print(f\"Fold: {fold}, f1_score: {round(score, 5)}\")\n",
    "    \n",
    "    # save model\n",
    "    joblib.dump(\"\", f\"{model_name}_model_{fold}.bin\")\n",
    "    \n",
    "    if config['print_report']:\n",
    "        print(metrics.classification_report(y_valid, y_preds))\n",
    "    \n",
    "    return score"
   ]
  },
  {
   "cell_type": "code",
   "execution_count": 17,
   "id": "85645cdf",
   "metadata": {
    "execution": {
     "iopub.execute_input": "2022-01-18T02:21:06.424442Z",
     "iopub.status.busy": "2022-01-18T02:21:06.418618Z",
     "iopub.status.idle": "2022-01-18T02:21:07.381327Z",
     "shell.execute_reply": "2022-01-18T02:21:07.381835Z",
     "shell.execute_reply.started": "2022-01-18T02:19:48.510410Z"
    },
    "papermill": {
     "duration": 0.993801,
     "end_time": "2022-01-18T02:21:07.382019",
     "exception": false,
     "start_time": "2022-01-18T02:21:06.388218",
     "status": "completed"
    },
    "tags": []
   },
   "outputs": [
    {
     "name": "stdout",
     "output_type": "stream",
     "text": [
      "(4457, 5000)\n",
      "(4457, 2)\n"
     ]
    }
   ],
   "source": [
    "# vectorize data\n",
    "\n",
    "train_text = train.message_text.tolist()\n",
    "test_text = test.message_text.tolist()\n",
    "\n",
    "train_vectors, test_vectors = vectorize(train_text, test_text)\n",
    "print(train_vectors.shape)\n",
    "\n",
    "train_vectors = pd.DataFrame(train_vectors)\n",
    "train_vectors.columns = [f\"tfidf_{i}\" for i in range(train_vectors.shape[1])]\n",
    "\n",
    "test_vectors = pd.DataFrame(test_vectors)\n",
    "test_vectors.columns = [f\"tfidf_{i}\" for i in range(test_vectors.shape[1])]\n",
    "print(train.shape)\n",
    "train = pd.concat([train, train_vectors], axis=1)\n",
    "test = pd.concat([test, test_vectors], axis=1)"
   ]
  },
  {
   "cell_type": "code",
   "execution_count": 18,
   "id": "421f331c",
   "metadata": {
    "execution": {
     "iopub.execute_input": "2022-01-18T02:21:07.432848Z",
     "iopub.status.busy": "2022-01-18T02:21:07.431858Z",
     "iopub.status.idle": "2022-01-18T02:21:07.465362Z",
     "shell.execute_reply": "2022-01-18T02:21:07.464738Z",
     "shell.execute_reply.started": "2022-01-18T02:19:49.429003Z"
    },
    "papermill": {
     "duration": 0.059858,
     "end_time": "2022-01-18T02:21:07.465544",
     "exception": false,
     "start_time": "2022-01-18T02:21:07.405686",
     "status": "completed"
    },
    "tags": []
   },
   "outputs": [
    {
     "data": {
      "text/html": [
       "<div>\n",
       "<style scoped>\n",
       "    .dataframe tbody tr th:only-of-type {\n",
       "        vertical-align: middle;\n",
       "    }\n",
       "\n",
       "    .dataframe tbody tr th {\n",
       "        vertical-align: top;\n",
       "    }\n",
       "\n",
       "    .dataframe thead th {\n",
       "        text-align: right;\n",
       "    }\n",
       "</style>\n",
       "<table border=\"1\" class=\"dataframe\">\n",
       "  <thead>\n",
       "    <tr style=\"text-align: right;\">\n",
       "      <th></th>\n",
       "      <th>target</th>\n",
       "      <th>message_text</th>\n",
       "      <th>tfidf_0</th>\n",
       "      <th>tfidf_1</th>\n",
       "      <th>tfidf_2</th>\n",
       "      <th>tfidf_3</th>\n",
       "      <th>tfidf_4</th>\n",
       "      <th>tfidf_5</th>\n",
       "      <th>tfidf_6</th>\n",
       "      <th>tfidf_7</th>\n",
       "      <th>...</th>\n",
       "      <th>tfidf_4990</th>\n",
       "      <th>tfidf_4991</th>\n",
       "      <th>tfidf_4992</th>\n",
       "      <th>tfidf_4993</th>\n",
       "      <th>tfidf_4994</th>\n",
       "      <th>tfidf_4995</th>\n",
       "      <th>tfidf_4996</th>\n",
       "      <th>tfidf_4997</th>\n",
       "      <th>tfidf_4998</th>\n",
       "      <th>tfidf_4999</th>\n",
       "    </tr>\n",
       "  </thead>\n",
       "  <tbody>\n",
       "    <tr>\n",
       "      <th>0</th>\n",
       "      <td>1</td>\n",
       "      <td>hot live fantasi call now 08707509020 just 20p...</td>\n",
       "      <td>0.0</td>\n",
       "      <td>0.0</td>\n",
       "      <td>0.0</td>\n",
       "      <td>0.0</td>\n",
       "      <td>0.0</td>\n",
       "      <td>0.0</td>\n",
       "      <td>0.0</td>\n",
       "      <td>0.0</td>\n",
       "      <td>...</td>\n",
       "      <td>0.0</td>\n",
       "      <td>0.0</td>\n",
       "      <td>0.0</td>\n",
       "      <td>0.0</td>\n",
       "      <td>0.0</td>\n",
       "      <td>0.0</td>\n",
       "      <td>0.0</td>\n",
       "      <td>0.0</td>\n",
       "      <td>0.0</td>\n",
       "      <td>0.0</td>\n",
       "    </tr>\n",
       "    <tr>\n",
       "      <th>1</th>\n",
       "      <td>0</td>\n",
       "      <td>hello no news on job they are make me wait a f...</td>\n",
       "      <td>0.0</td>\n",
       "      <td>0.0</td>\n",
       "      <td>0.0</td>\n",
       "      <td>0.0</td>\n",
       "      <td>0.0</td>\n",
       "      <td>0.0</td>\n",
       "      <td>0.0</td>\n",
       "      <td>0.0</td>\n",
       "      <td>...</td>\n",
       "      <td>0.0</td>\n",
       "      <td>0.0</td>\n",
       "      <td>0.0</td>\n",
       "      <td>0.0</td>\n",
       "      <td>0.0</td>\n",
       "      <td>0.0</td>\n",
       "      <td>0.0</td>\n",
       "      <td>0.0</td>\n",
       "      <td>0.0</td>\n",
       "      <td>0.0</td>\n",
       "    </tr>\n",
       "    <tr>\n",
       "      <th>2</th>\n",
       "      <td>0</td>\n",
       "      <td>that mean get the door</td>\n",
       "      <td>0.0</td>\n",
       "      <td>0.0</td>\n",
       "      <td>0.0</td>\n",
       "      <td>0.0</td>\n",
       "      <td>0.0</td>\n",
       "      <td>0.0</td>\n",
       "      <td>0.0</td>\n",
       "      <td>0.0</td>\n",
       "      <td>...</td>\n",
       "      <td>0.0</td>\n",
       "      <td>0.0</td>\n",
       "      <td>0.0</td>\n",
       "      <td>0.0</td>\n",
       "      <td>0.0</td>\n",
       "      <td>0.0</td>\n",
       "      <td>0.0</td>\n",
       "      <td>0.0</td>\n",
       "      <td>0.0</td>\n",
       "      <td>0.0</td>\n",
       "    </tr>\n",
       "    <tr>\n",
       "      <th>3</th>\n",
       "      <td>0</td>\n",
       "      <td>uncl g just check up on you do have a reward m...</td>\n",
       "      <td>0.0</td>\n",
       "      <td>0.0</td>\n",
       "      <td>0.0</td>\n",
       "      <td>0.0</td>\n",
       "      <td>0.0</td>\n",
       "      <td>0.0</td>\n",
       "      <td>0.0</td>\n",
       "      <td>0.0</td>\n",
       "      <td>...</td>\n",
       "      <td>0.0</td>\n",
       "      <td>0.0</td>\n",
       "      <td>0.0</td>\n",
       "      <td>0.0</td>\n",
       "      <td>0.0</td>\n",
       "      <td>0.0</td>\n",
       "      <td>0.0</td>\n",
       "      <td>0.0</td>\n",
       "      <td>0.0</td>\n",
       "      <td>0.0</td>\n",
       "    </tr>\n",
       "    <tr>\n",
       "      <th>4</th>\n",
       "      <td>0</td>\n",
       "      <td>good morn my love i go to sleep now and wish y...</td>\n",
       "      <td>0.0</td>\n",
       "      <td>0.0</td>\n",
       "      <td>0.0</td>\n",
       "      <td>0.0</td>\n",
       "      <td>0.0</td>\n",
       "      <td>0.0</td>\n",
       "      <td>0.0</td>\n",
       "      <td>0.0</td>\n",
       "      <td>...</td>\n",
       "      <td>0.0</td>\n",
       "      <td>0.0</td>\n",
       "      <td>0.0</td>\n",
       "      <td>0.0</td>\n",
       "      <td>0.0</td>\n",
       "      <td>0.0</td>\n",
       "      <td>0.0</td>\n",
       "      <td>0.0</td>\n",
       "      <td>0.0</td>\n",
       "      <td>0.0</td>\n",
       "    </tr>\n",
       "  </tbody>\n",
       "</table>\n",
       "<p>5 rows × 5002 columns</p>\n",
       "</div>"
      ],
      "text/plain": [
       "   target                                       message_text  tfidf_0  \\\n",
       "0       1  hot live fantasi call now 08707509020 just 20p...      0.0   \n",
       "1       0  hello no news on job they are make me wait a f...      0.0   \n",
       "2       0                             that mean get the door      0.0   \n",
       "3       0  uncl g just check up on you do have a reward m...      0.0   \n",
       "4       0  good morn my love i go to sleep now and wish y...      0.0   \n",
       "\n",
       "   tfidf_1  tfidf_2  tfidf_3  tfidf_4  tfidf_5  tfidf_6  tfidf_7  ...  \\\n",
       "0      0.0      0.0      0.0      0.0      0.0      0.0      0.0  ...   \n",
       "1      0.0      0.0      0.0      0.0      0.0      0.0      0.0  ...   \n",
       "2      0.0      0.0      0.0      0.0      0.0      0.0      0.0  ...   \n",
       "3      0.0      0.0      0.0      0.0      0.0      0.0      0.0  ...   \n",
       "4      0.0      0.0      0.0      0.0      0.0      0.0      0.0  ...   \n",
       "\n",
       "   tfidf_4990  tfidf_4991  tfidf_4992  tfidf_4993  tfidf_4994  tfidf_4995  \\\n",
       "0         0.0         0.0         0.0         0.0         0.0         0.0   \n",
       "1         0.0         0.0         0.0         0.0         0.0         0.0   \n",
       "2         0.0         0.0         0.0         0.0         0.0         0.0   \n",
       "3         0.0         0.0         0.0         0.0         0.0         0.0   \n",
       "4         0.0         0.0         0.0         0.0         0.0         0.0   \n",
       "\n",
       "   tfidf_4996  tfidf_4997  tfidf_4998  tfidf_4999  \n",
       "0         0.0         0.0         0.0         0.0  \n",
       "1         0.0         0.0         0.0         0.0  \n",
       "2         0.0         0.0         0.0         0.0  \n",
       "3         0.0         0.0         0.0         0.0  \n",
       "4         0.0         0.0         0.0         0.0  \n",
       "\n",
       "[5 rows x 5002 columns]"
      ]
     },
     "execution_count": 18,
     "metadata": {},
     "output_type": "execute_result"
    }
   ],
   "source": [
    "train.head()"
   ]
  },
  {
   "cell_type": "code",
   "execution_count": 19,
   "id": "1f9116f6",
   "metadata": {
    "execution": {
     "iopub.execute_input": "2022-01-18T02:21:07.520718Z",
     "iopub.status.busy": "2022-01-18T02:21:07.519615Z",
     "iopub.status.idle": "2022-01-18T02:21:07.721802Z",
     "shell.execute_reply": "2022-01-18T02:21:07.722301Z",
     "shell.execute_reply.started": "2022-01-18T02:19:49.467464Z"
    },
    "papermill": {
     "duration": 0.232907,
     "end_time": "2022-01-18T02:21:07.722486",
     "exception": false,
     "start_time": "2022-01-18T02:21:07.489579",
     "status": "completed"
    },
    "tags": []
   },
   "outputs": [
    {
     "data": {
      "text/plain": [
       "0    892\n",
       "1    892\n",
       "3    891\n",
       "4    891\n",
       "2    891\n",
       "Name: kfold, dtype: int64"
      ]
     },
     "execution_count": 19,
     "metadata": {},
     "output_type": "execute_result"
    }
   ],
   "source": [
    "# create_folds\n",
    "train_folds = create_folds(train)\n",
    "\n",
    "train_folds.kfold.value_counts()"
   ]
  },
  {
   "cell_type": "code",
   "execution_count": 20,
   "id": "37bace38",
   "metadata": {
    "execution": {
     "iopub.execute_input": "2022-01-18T02:21:07.776123Z",
     "iopub.status.busy": "2022-01-18T02:21:07.775373Z",
     "iopub.status.idle": "2022-01-18T02:21:07.806637Z",
     "shell.execute_reply": "2022-01-18T02:21:07.806091Z",
     "shell.execute_reply.started": "2022-01-18T02:19:49.671780Z"
    },
    "papermill": {
     "duration": 0.059283,
     "end_time": "2022-01-18T02:21:07.806780",
     "exception": false,
     "start_time": "2022-01-18T02:21:07.747497",
     "status": "completed"
    },
    "tags": []
   },
   "outputs": [
    {
     "data": {
      "text/html": [
       "<div>\n",
       "<style scoped>\n",
       "    .dataframe tbody tr th:only-of-type {\n",
       "        vertical-align: middle;\n",
       "    }\n",
       "\n",
       "    .dataframe tbody tr th {\n",
       "        vertical-align: top;\n",
       "    }\n",
       "\n",
       "    .dataframe thead th {\n",
       "        text-align: right;\n",
       "    }\n",
       "</style>\n",
       "<table border=\"1\" class=\"dataframe\">\n",
       "  <thead>\n",
       "    <tr style=\"text-align: right;\">\n",
       "      <th></th>\n",
       "      <th>target</th>\n",
       "      <th>message_text</th>\n",
       "      <th>tfidf_0</th>\n",
       "      <th>tfidf_1</th>\n",
       "      <th>tfidf_2</th>\n",
       "      <th>tfidf_3</th>\n",
       "      <th>tfidf_4</th>\n",
       "      <th>tfidf_5</th>\n",
       "      <th>tfidf_6</th>\n",
       "      <th>tfidf_7</th>\n",
       "      <th>...</th>\n",
       "      <th>tfidf_4991</th>\n",
       "      <th>tfidf_4992</th>\n",
       "      <th>tfidf_4993</th>\n",
       "      <th>tfidf_4994</th>\n",
       "      <th>tfidf_4995</th>\n",
       "      <th>tfidf_4996</th>\n",
       "      <th>tfidf_4997</th>\n",
       "      <th>tfidf_4998</th>\n",
       "      <th>tfidf_4999</th>\n",
       "      <th>kfold</th>\n",
       "    </tr>\n",
       "  </thead>\n",
       "  <tbody>\n",
       "    <tr>\n",
       "      <th>0</th>\n",
       "      <td>0</td>\n",
       "      <td>nvm it s ok</td>\n",
       "      <td>0.0</td>\n",
       "      <td>0.0</td>\n",
       "      <td>0.0</td>\n",
       "      <td>0.0</td>\n",
       "      <td>0.0</td>\n",
       "      <td>0.0</td>\n",
       "      <td>0.0</td>\n",
       "      <td>0.0</td>\n",
       "      <td>...</td>\n",
       "      <td>0.0</td>\n",
       "      <td>0.0</td>\n",
       "      <td>0.0</td>\n",
       "      <td>0.0</td>\n",
       "      <td>0.0</td>\n",
       "      <td>0.0</td>\n",
       "      <td>0.0</td>\n",
       "      <td>0.0</td>\n",
       "      <td>0.0</td>\n",
       "      <td>3</td>\n",
       "    </tr>\n",
       "    <tr>\n",
       "      <th>1</th>\n",
       "      <td>0</td>\n",
       "      <td>cool i ll text you in a few</td>\n",
       "      <td>0.0</td>\n",
       "      <td>0.0</td>\n",
       "      <td>0.0</td>\n",
       "      <td>0.0</td>\n",
       "      <td>0.0</td>\n",
       "      <td>0.0</td>\n",
       "      <td>0.0</td>\n",
       "      <td>0.0</td>\n",
       "      <td>...</td>\n",
       "      <td>0.0</td>\n",
       "      <td>0.0</td>\n",
       "      <td>0.0</td>\n",
       "      <td>0.0</td>\n",
       "      <td>0.0</td>\n",
       "      <td>0.0</td>\n",
       "      <td>0.0</td>\n",
       "      <td>0.0</td>\n",
       "      <td>0.0</td>\n",
       "      <td>0</td>\n",
       "    </tr>\n",
       "    <tr>\n",
       "      <th>2</th>\n",
       "      <td>0</td>\n",
       "      <td>well i wasn t avail as i washob nob with last ...</td>\n",
       "      <td>0.0</td>\n",
       "      <td>0.0</td>\n",
       "      <td>0.0</td>\n",
       "      <td>0.0</td>\n",
       "      <td>0.0</td>\n",
       "      <td>0.0</td>\n",
       "      <td>0.0</td>\n",
       "      <td>0.0</td>\n",
       "      <td>...</td>\n",
       "      <td>0.0</td>\n",
       "      <td>0.0</td>\n",
       "      <td>0.0</td>\n",
       "      <td>0.0</td>\n",
       "      <td>0.0</td>\n",
       "      <td>0.0</td>\n",
       "      <td>0.0</td>\n",
       "      <td>0.0</td>\n",
       "      <td>0.0</td>\n",
       "      <td>3</td>\n",
       "    </tr>\n",
       "    <tr>\n",
       "      <th>3</th>\n",
       "      <td>1</td>\n",
       "      <td>congrat 2 mobil 3g videophon r your call 09063...</td>\n",
       "      <td>0.0</td>\n",
       "      <td>0.0</td>\n",
       "      <td>0.0</td>\n",
       "      <td>0.0</td>\n",
       "      <td>0.0</td>\n",
       "      <td>0.0</td>\n",
       "      <td>0.0</td>\n",
       "      <td>0.0</td>\n",
       "      <td>...</td>\n",
       "      <td>0.0</td>\n",
       "      <td>0.0</td>\n",
       "      <td>0.0</td>\n",
       "      <td>0.0</td>\n",
       "      <td>0.0</td>\n",
       "      <td>0.0</td>\n",
       "      <td>0.0</td>\n",
       "      <td>0.0</td>\n",
       "      <td>0.0</td>\n",
       "      <td>0</td>\n",
       "    </tr>\n",
       "    <tr>\n",
       "      <th>4</th>\n",
       "      <td>0</td>\n",
       "      <td>uncl abbey happi new year abiola</td>\n",
       "      <td>0.0</td>\n",
       "      <td>0.0</td>\n",
       "      <td>0.0</td>\n",
       "      <td>0.0</td>\n",
       "      <td>0.0</td>\n",
       "      <td>0.0</td>\n",
       "      <td>0.0</td>\n",
       "      <td>0.0</td>\n",
       "      <td>...</td>\n",
       "      <td>0.0</td>\n",
       "      <td>0.0</td>\n",
       "      <td>0.0</td>\n",
       "      <td>0.0</td>\n",
       "      <td>0.0</td>\n",
       "      <td>0.0</td>\n",
       "      <td>0.0</td>\n",
       "      <td>0.0</td>\n",
       "      <td>0.0</td>\n",
       "      <td>1</td>\n",
       "    </tr>\n",
       "  </tbody>\n",
       "</table>\n",
       "<p>5 rows × 5003 columns</p>\n",
       "</div>"
      ],
      "text/plain": [
       "   target                                       message_text  tfidf_0  \\\n",
       "0       0                                        nvm it s ok      0.0   \n",
       "1       0                        cool i ll text you in a few      0.0   \n",
       "2       0  well i wasn t avail as i washob nob with last ...      0.0   \n",
       "3       1  congrat 2 mobil 3g videophon r your call 09063...      0.0   \n",
       "4       0                   uncl abbey happi new year abiola      0.0   \n",
       "\n",
       "   tfidf_1  tfidf_2  tfidf_3  tfidf_4  tfidf_5  tfidf_6  tfidf_7  ...  \\\n",
       "0      0.0      0.0      0.0      0.0      0.0      0.0      0.0  ...   \n",
       "1      0.0      0.0      0.0      0.0      0.0      0.0      0.0  ...   \n",
       "2      0.0      0.0      0.0      0.0      0.0      0.0      0.0  ...   \n",
       "3      0.0      0.0      0.0      0.0      0.0      0.0      0.0  ...   \n",
       "4      0.0      0.0      0.0      0.0      0.0      0.0      0.0  ...   \n",
       "\n",
       "   tfidf_4991  tfidf_4992  tfidf_4993  tfidf_4994  tfidf_4995  tfidf_4996  \\\n",
       "0         0.0         0.0         0.0         0.0         0.0         0.0   \n",
       "1         0.0         0.0         0.0         0.0         0.0         0.0   \n",
       "2         0.0         0.0         0.0         0.0         0.0         0.0   \n",
       "3         0.0         0.0         0.0         0.0         0.0         0.0   \n",
       "4         0.0         0.0         0.0         0.0         0.0         0.0   \n",
       "\n",
       "   tfidf_4997  tfidf_4998  tfidf_4999  kfold  \n",
       "0         0.0         0.0         0.0      3  \n",
       "1         0.0         0.0         0.0      0  \n",
       "2         0.0         0.0         0.0      3  \n",
       "3         0.0         0.0         0.0      0  \n",
       "4         0.0         0.0         0.0      1  \n",
       "\n",
       "[5 rows x 5003 columns]"
      ]
     },
     "execution_count": 20,
     "metadata": {},
     "output_type": "execute_result"
    }
   ],
   "source": [
    "train_folds.head()"
   ]
  },
  {
   "cell_type": "code",
   "execution_count": 21,
   "id": "ba05e273",
   "metadata": {
    "execution": {
     "iopub.execute_input": "2022-01-18T02:21:07.864770Z",
     "iopub.status.busy": "2022-01-18T02:21:07.864086Z",
     "iopub.status.idle": "2022-01-18T02:21:13.116068Z",
     "shell.execute_reply": "2022-01-18T02:21:13.116626Z",
     "shell.execute_reply.started": "2022-01-18T02:19:49.704171Z"
    },
    "papermill": {
     "duration": 5.283318,
     "end_time": "2022-01-18T02:21:13.116860",
     "exception": false,
     "start_time": "2022-01-18T02:21:07.833542",
     "status": "completed"
    },
    "tags": []
   },
   "outputs": [
    {
     "name": "stdout",
     "output_type": "stream",
     "text": [
      "Fold: 0, f1_score: 0.97049\n",
      "              precision    recall  f1-score   support\n",
      "\n",
      "           0       0.99      1.00      0.99       772\n",
      "           1       0.97      0.93      0.95       120\n",
      "\n",
      "    accuracy                           0.99       892\n",
      "   macro avg       0.98      0.96      0.97       892\n",
      "weighted avg       0.99      0.99      0.99       892\n",
      "\n",
      "Fold: 1, f1_score: 0.97504\n",
      "              precision    recall  f1-score   support\n",
      "\n",
      "           0       0.99      1.00      0.99       772\n",
      "           1       1.00      0.92      0.96       120\n",
      "\n",
      "    accuracy                           0.99       892\n",
      "   macro avg       0.99      0.96      0.98       892\n",
      "weighted avg       0.99      0.99      0.99       892\n",
      "\n",
      "Fold: 2, f1_score: 0.95915\n",
      "              precision    recall  f1-score   support\n",
      "\n",
      "           0       0.98      1.00      0.99       772\n",
      "           1       0.99      0.87      0.93       119\n",
      "\n",
      "    accuracy                           0.98       891\n",
      "   macro avg       0.99      0.94      0.96       891\n",
      "weighted avg       0.98      0.98      0.98       891\n",
      "\n",
      "Fold: 3, f1_score: 0.95473\n",
      "              precision    recall  f1-score   support\n",
      "\n",
      "           0       0.98      0.99      0.99       772\n",
      "           1       0.96      0.88      0.92       119\n",
      "\n",
      "    accuracy                           0.98       891\n",
      "   macro avg       0.97      0.94      0.95       891\n",
      "weighted avg       0.98      0.98      0.98       891\n",
      "\n",
      "Fold: 4, f1_score: 0.96982\n",
      "              precision    recall  f1-score   support\n",
      "\n",
      "           0       0.98      1.00      0.99       771\n",
      "           1       1.00      0.90      0.95       120\n",
      "\n",
      "    accuracy                           0.99       891\n",
      "   macro avg       0.99      0.95      0.97       891\n",
      "weighted avg       0.99      0.99      0.99       891\n",
      "\n",
      "CV score: 0.96585\n"
     ]
    }
   ],
   "source": [
    "scores = []\n",
    "for fold in range(config['num_folds']):\n",
    "    score = run(train_folds, fold=fold, model_name='lgbm')\n",
    "    scores.append(score)\n",
    "print(f\"CV score: {round(np.mean(scores), 5)}\")"
   ]
  },
  {
   "cell_type": "code",
   "execution_count": null,
   "id": "ed14bb37",
   "metadata": {
    "papermill": {
     "duration": 0.026302,
     "end_time": "2022-01-18T02:21:13.171562",
     "exception": false,
     "start_time": "2022-01-18T02:21:13.145260",
     "status": "completed"
    },
    "tags": []
   },
   "outputs": [],
   "source": []
  },
  {
   "cell_type": "code",
   "execution_count": null,
   "id": "184120e5",
   "metadata": {
    "papermill": {
     "duration": 0.026157,
     "end_time": "2022-01-18T02:21:13.224311",
     "exception": false,
     "start_time": "2022-01-18T02:21:13.198154",
     "status": "completed"
    },
    "tags": []
   },
   "outputs": [],
   "source": []
  },
  {
   "cell_type": "code",
   "execution_count": null,
   "id": "272d8ec6",
   "metadata": {
    "papermill": {
     "duration": 0.026207,
     "end_time": "2022-01-18T02:21:13.277648",
     "exception": false,
     "start_time": "2022-01-18T02:21:13.251441",
     "status": "completed"
    },
    "tags": []
   },
   "outputs": [],
   "source": []
  }
 ],
 "metadata": {
  "kernelspec": {
   "display_name": "Python 3",
   "language": "python",
   "name": "python3"
  },
  "language_info": {
   "codemirror_mode": {
    "name": "ipython",
    "version": 3
   },
   "file_extension": ".py",
   "mimetype": "text/x-python",
   "name": "python",
   "nbconvert_exporter": "python",
   "pygments_lexer": "ipython3",
   "version": "3.7.12"
  },
  "papermill": {
   "default_parameters": {},
   "duration": 26.992189,
   "end_time": "2022-01-18T02:21:14.114892",
   "environment_variables": {},
   "exception": null,
   "input_path": "__notebook__.ipynb",
   "output_path": "__notebook__.ipynb",
   "parameters": {},
   "start_time": "2022-01-18T02:20:47.122703",
   "version": "2.3.3"
  },
  "widgets": {
   "application/vnd.jupyter.widget-state+json": {
    "state": {
     "53b8ed5965db4ee5991204148213472d": {
      "model_module": "@jupyter-widgets/base",
      "model_module_version": "1.2.0",
      "model_name": "LayoutModel",
      "state": {
       "_model_module": "@jupyter-widgets/base",
       "_model_module_version": "1.2.0",
       "_model_name": "LayoutModel",
       "_view_count": null,
       "_view_module": "@jupyter-widgets/base",
       "_view_module_version": "1.2.0",
       "_view_name": "LayoutView",
       "align_content": null,
       "align_items": null,
       "align_self": null,
       "border": null,
       "bottom": null,
       "display": null,
       "flex": null,
       "flex_flow": null,
       "grid_area": null,
       "grid_auto_columns": null,
       "grid_auto_flow": null,
       "grid_auto_rows": null,
       "grid_column": null,
       "grid_gap": null,
       "grid_row": null,
       "grid_template_areas": null,
       "grid_template_columns": null,
       "grid_template_rows": null,
       "height": null,
       "justify_content": null,
       "justify_items": null,
       "left": null,
       "margin": null,
       "max_height": null,
       "max_width": null,
       "min_height": null,
       "min_width": null,
       "object_fit": null,
       "object_position": null,
       "order": null,
       "overflow": null,
       "overflow_x": null,
       "overflow_y": null,
       "padding": null,
       "right": null,
       "top": null,
       "visibility": null,
       "width": null
      }
     },
     "83c19bde6dee43f39feb5d07f7a8b835": {
      "model_module": "@jupyter-widgets/base",
      "model_module_version": "1.2.0",
      "model_name": "LayoutModel",
      "state": {
       "_model_module": "@jupyter-widgets/base",
       "_model_module_version": "1.2.0",
       "_model_name": "LayoutModel",
       "_view_count": null,
       "_view_module": "@jupyter-widgets/base",
       "_view_module_version": "1.2.0",
       "_view_name": "LayoutView",
       "align_content": null,
       "align_items": null,
       "align_self": null,
       "border": null,
       "bottom": null,
       "display": null,
       "flex": null,
       "flex_flow": null,
       "grid_area": null,
       "grid_auto_columns": null,
       "grid_auto_flow": null,
       "grid_auto_rows": null,
       "grid_column": null,
       "grid_gap": null,
       "grid_row": null,
       "grid_template_areas": null,
       "grid_template_columns": null,
       "grid_template_rows": null,
       "height": null,
       "justify_content": null,
       "justify_items": null,
       "left": null,
       "margin": null,
       "max_height": null,
       "max_width": null,
       "min_height": null,
       "min_width": null,
       "object_fit": null,
       "object_position": null,
       "order": null,
       "overflow": null,
       "overflow_x": null,
       "overflow_y": null,
       "padding": null,
       "right": null,
       "top": null,
       "visibility": null,
       "width": null
      }
     },
     "8b474baae7d143caad50724ab481719a": {
      "model_module": "@jupyter-widgets/controls",
      "model_module_version": "1.5.0",
      "model_name": "HTMLModel",
      "state": {
       "_dom_classes": [],
       "_model_module": "@jupyter-widgets/controls",
       "_model_module_version": "1.5.0",
       "_model_name": "HTMLModel",
       "_view_count": null,
       "_view_module": "@jupyter-widgets/controls",
       "_view_module_version": "1.5.0",
       "_view_name": "HTMLView",
       "description": "",
       "description_tooltip": null,
       "layout": "IPY_MODEL_53b8ed5965db4ee5991204148213472d",
       "placeholder": "​",
       "style": "IPY_MODEL_ef8f1b61c40d435993a27e9e0a388d32",
       "value": "100%"
      }
     },
     "8d199fa8c93849f0bb4a997a93dedc0e": {
      "model_module": "@jupyter-widgets/base",
      "model_module_version": "1.2.0",
      "model_name": "LayoutModel",
      "state": {
       "_model_module": "@jupyter-widgets/base",
       "_model_module_version": "1.2.0",
       "_model_name": "LayoutModel",
       "_view_count": null,
       "_view_module": "@jupyter-widgets/base",
       "_view_module_version": "1.2.0",
       "_view_name": "LayoutView",
       "align_content": null,
       "align_items": null,
       "align_self": null,
       "border": null,
       "bottom": null,
       "display": null,
       "flex": null,
       "flex_flow": null,
       "grid_area": null,
       "grid_auto_columns": null,
       "grid_auto_flow": null,
       "grid_auto_rows": null,
       "grid_column": null,
       "grid_gap": null,
       "grid_row": null,
       "grid_template_areas": null,
       "grid_template_columns": null,
       "grid_template_rows": null,
       "height": null,
       "justify_content": null,
       "justify_items": null,
       "left": null,
       "margin": null,
       "max_height": null,
       "max_width": null,
       "min_height": null,
       "min_width": null,
       "object_fit": null,
       "object_position": null,
       "order": null,
       "overflow": null,
       "overflow_x": null,
       "overflow_y": null,
       "padding": null,
       "right": null,
       "top": null,
       "visibility": null,
       "width": null
      }
     },
     "926882d0e90848f0ba6fd55f02988788": {
      "model_module": "@jupyter-widgets/controls",
      "model_module_version": "1.5.0",
      "model_name": "FloatProgressModel",
      "state": {
       "_dom_classes": [],
       "_model_module": "@jupyter-widgets/controls",
       "_model_module_version": "1.5.0",
       "_model_name": "FloatProgressModel",
       "_view_count": null,
       "_view_module": "@jupyter-widgets/controls",
       "_view_module_version": "1.5.0",
       "_view_name": "ProgressView",
       "bar_style": "success",
       "description": "",
       "description_tooltip": null,
       "layout": "IPY_MODEL_9d88c032799a49a08338e346c92b5886",
       "max": 5572.0,
       "min": 0.0,
       "orientation": "horizontal",
       "style": "IPY_MODEL_a21f5afc29ba41b483c084ce97cecdab",
       "value": 5572.0
      }
     },
     "9d88c032799a49a08338e346c92b5886": {
      "model_module": "@jupyter-widgets/base",
      "model_module_version": "1.2.0",
      "model_name": "LayoutModel",
      "state": {
       "_model_module": "@jupyter-widgets/base",
       "_model_module_version": "1.2.0",
       "_model_name": "LayoutModel",
       "_view_count": null,
       "_view_module": "@jupyter-widgets/base",
       "_view_module_version": "1.2.0",
       "_view_name": "LayoutView",
       "align_content": null,
       "align_items": null,
       "align_self": null,
       "border": null,
       "bottom": null,
       "display": null,
       "flex": null,
       "flex_flow": null,
       "grid_area": null,
       "grid_auto_columns": null,
       "grid_auto_flow": null,
       "grid_auto_rows": null,
       "grid_column": null,
       "grid_gap": null,
       "grid_row": null,
       "grid_template_areas": null,
       "grid_template_columns": null,
       "grid_template_rows": null,
       "height": null,
       "justify_content": null,
       "justify_items": null,
       "left": null,
       "margin": null,
       "max_height": null,
       "max_width": null,
       "min_height": null,
       "min_width": null,
       "object_fit": null,
       "object_position": null,
       "order": null,
       "overflow": null,
       "overflow_x": null,
       "overflow_y": null,
       "padding": null,
       "right": null,
       "top": null,
       "visibility": null,
       "width": null
      }
     },
     "9dcd10591d64469c9185accc77c1e4e3": {
      "model_module": "@jupyter-widgets/controls",
      "model_module_version": "1.5.0",
      "model_name": "HBoxModel",
      "state": {
       "_dom_classes": [],
       "_model_module": "@jupyter-widgets/controls",
       "_model_module_version": "1.5.0",
       "_model_name": "HBoxModel",
       "_view_count": null,
       "_view_module": "@jupyter-widgets/controls",
       "_view_module_version": "1.5.0",
       "_view_name": "HBoxView",
       "box_style": "",
       "children": [
        "IPY_MODEL_8b474baae7d143caad50724ab481719a",
        "IPY_MODEL_926882d0e90848f0ba6fd55f02988788",
        "IPY_MODEL_f0c39736293d4ae28b31fdc2aaffe168"
       ],
       "layout": "IPY_MODEL_83c19bde6dee43f39feb5d07f7a8b835"
      }
     },
     "a21f5afc29ba41b483c084ce97cecdab": {
      "model_module": "@jupyter-widgets/controls",
      "model_module_version": "1.5.0",
      "model_name": "ProgressStyleModel",
      "state": {
       "_model_module": "@jupyter-widgets/controls",
       "_model_module_version": "1.5.0",
       "_model_name": "ProgressStyleModel",
       "_view_count": null,
       "_view_module": "@jupyter-widgets/base",
       "_view_module_version": "1.2.0",
       "_view_name": "StyleView",
       "bar_color": null,
       "description_width": ""
      }
     },
     "a9d2c3f9206f44289ef27b2cae9f3ae2": {
      "model_module": "@jupyter-widgets/controls",
      "model_module_version": "1.5.0",
      "model_name": "DescriptionStyleModel",
      "state": {
       "_model_module": "@jupyter-widgets/controls",
       "_model_module_version": "1.5.0",
       "_model_name": "DescriptionStyleModel",
       "_view_count": null,
       "_view_module": "@jupyter-widgets/base",
       "_view_module_version": "1.2.0",
       "_view_name": "StyleView",
       "description_width": ""
      }
     },
     "ef8f1b61c40d435993a27e9e0a388d32": {
      "model_module": "@jupyter-widgets/controls",
      "model_module_version": "1.5.0",
      "model_name": "DescriptionStyleModel",
      "state": {
       "_model_module": "@jupyter-widgets/controls",
       "_model_module_version": "1.5.0",
       "_model_name": "DescriptionStyleModel",
       "_view_count": null,
       "_view_module": "@jupyter-widgets/base",
       "_view_module_version": "1.2.0",
       "_view_name": "StyleView",
       "description_width": ""
      }
     },
     "f0c39736293d4ae28b31fdc2aaffe168": {
      "model_module": "@jupyter-widgets/controls",
      "model_module_version": "1.5.0",
      "model_name": "HTMLModel",
      "state": {
       "_dom_classes": [],
       "_model_module": "@jupyter-widgets/controls",
       "_model_module_version": "1.5.0",
       "_model_name": "HTMLModel",
       "_view_count": null,
       "_view_module": "@jupyter-widgets/controls",
       "_view_module_version": "1.5.0",
       "_view_name": "HTMLView",
       "description": "",
       "description_tooltip": null,
       "layout": "IPY_MODEL_8d199fa8c93849f0bb4a997a93dedc0e",
       "placeholder": "​",
       "style": "IPY_MODEL_a9d2c3f9206f44289ef27b2cae9f3ae2",
       "value": " 5572/5572 [00:04&lt;00:00, 1264.88it/s]"
      }
     }
    },
    "version_major": 2,
    "version_minor": 0
   }
  }
 },
 "nbformat": 4,
 "nbformat_minor": 5
}

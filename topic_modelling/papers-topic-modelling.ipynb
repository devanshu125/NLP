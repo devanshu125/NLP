{
 "cells": [
  {
   "cell_type": "code",
   "execution_count": 1,
   "id": "1cbf335b",
   "metadata": {
    "execution": {
     "iopub.execute_input": "2022-03-12T02:11:03.300427Z",
     "iopub.status.busy": "2022-03-12T02:11:03.299492Z",
     "iopub.status.idle": "2022-03-12T02:11:05.604769Z",
     "shell.execute_reply": "2022-03-12T02:11:05.605333Z",
     "shell.execute_reply.started": "2022-03-12T02:08:23.267681Z"
    },
    "papermill": {
     "duration": 2.343085,
     "end_time": "2022-03-12T02:11:05.605721",
     "exception": false,
     "start_time": "2022-03-12T02:11:03.262636",
     "status": "completed"
    },
    "tags": []
   },
   "outputs": [],
   "source": [
    "import pandas as pd\n",
    "import numpy as np\n",
    "\n",
    "import matplotlib.pyplot as plt\n",
    "from sklearn.feature_extraction.text import TfidfVectorizer\n",
    "import nltk\n",
    "import re\n",
    "import gensim\n",
    "import pprint\n",
    "\n",
    "from tqdm.notebook import tqdm\n",
    "tqdm.pandas()"
   ]
  },
  {
   "cell_type": "code",
   "execution_count": 2,
   "id": "f9eb5842",
   "metadata": {
    "execution": {
     "iopub.execute_input": "2022-03-12T02:11:05.653410Z",
     "iopub.status.busy": "2022-03-12T02:11:05.652266Z",
     "iopub.status.idle": "2022-03-12T02:11:05.655323Z",
     "shell.execute_reply": "2022-03-12T02:11:05.654822Z",
     "shell.execute_reply.started": "2022-03-12T02:08:25.292623Z"
    },
    "papermill": {
     "duration": 0.028254,
     "end_time": "2022-03-12T02:11:05.655514",
     "exception": false,
     "start_time": "2022-03-12T02:11:05.627260",
     "status": "completed"
    },
    "tags": []
   },
   "outputs": [],
   "source": [
    "class config:\n",
    "    DEBUG = False\n",
    "    SEED = 3407\n",
    "    SAMPLE_SIZE = 1000"
   ]
  },
  {
   "cell_type": "code",
   "execution_count": 3,
   "id": "4a1d81b4",
   "metadata": {
    "execution": {
     "iopub.execute_input": "2022-03-12T02:11:05.702115Z",
     "iopub.status.busy": "2022-03-12T02:11:05.701312Z",
     "iopub.status.idle": "2022-03-12T02:11:09.666466Z",
     "shell.execute_reply": "2022-03-12T02:11:09.667339Z",
     "shell.execute_reply.started": "2022-03-12T02:08:25.299286Z"
    },
    "papermill": {
     "duration": 3.991713,
     "end_time": "2022-03-12T02:11:09.667654",
     "exception": false,
     "start_time": "2022-03-12T02:11:05.675941",
     "status": "completed"
    },
    "tags": []
   },
   "outputs": [
    {
     "name": "stdout",
     "output_type": "stream",
     "text": [
      "(7241, 7)\n"
     ]
    },
    {
     "data": {
      "text/html": [
       "<div>\n",
       "<style scoped>\n",
       "    .dataframe tbody tr th:only-of-type {\n",
       "        vertical-align: middle;\n",
       "    }\n",
       "\n",
       "    .dataframe tbody tr th {\n",
       "        vertical-align: top;\n",
       "    }\n",
       "\n",
       "    .dataframe thead th {\n",
       "        text-align: right;\n",
       "    }\n",
       "</style>\n",
       "<table border=\"1\" class=\"dataframe\">\n",
       "  <thead>\n",
       "    <tr style=\"text-align: right;\">\n",
       "      <th></th>\n",
       "      <th>id</th>\n",
       "      <th>year</th>\n",
       "      <th>title</th>\n",
       "      <th>event_type</th>\n",
       "      <th>pdf_name</th>\n",
       "      <th>abstract</th>\n",
       "      <th>paper_text</th>\n",
       "    </tr>\n",
       "  </thead>\n",
       "  <tbody>\n",
       "    <tr>\n",
       "      <th>0</th>\n",
       "      <td>1</td>\n",
       "      <td>1987</td>\n",
       "      <td>Self-Organization of Associative Database and ...</td>\n",
       "      <td>NaN</td>\n",
       "      <td>1-self-organization-of-associative-database-an...</td>\n",
       "      <td>Abstract Missing</td>\n",
       "      <td>767\\n\\nSELF-ORGANIZATION OF ASSOCIATIVE DATABA...</td>\n",
       "    </tr>\n",
       "    <tr>\n",
       "      <th>1</th>\n",
       "      <td>10</td>\n",
       "      <td>1987</td>\n",
       "      <td>A Mean Field Theory of Layer IV of Visual Cort...</td>\n",
       "      <td>NaN</td>\n",
       "      <td>10-a-mean-field-theory-of-layer-iv-of-visual-c...</td>\n",
       "      <td>Abstract Missing</td>\n",
       "      <td>683\\n\\nA MEAN FIELD THEORY OF LAYER IV OF VISU...</td>\n",
       "    </tr>\n",
       "    <tr>\n",
       "      <th>2</th>\n",
       "      <td>100</td>\n",
       "      <td>1988</td>\n",
       "      <td>Storing Covariance by the Associative Long-Ter...</td>\n",
       "      <td>NaN</td>\n",
       "      <td>100-storing-covariance-by-the-associative-long...</td>\n",
       "      <td>Abstract Missing</td>\n",
       "      <td>394\\n\\nSTORING COVARIANCE BY THE ASSOCIATIVE\\n...</td>\n",
       "    </tr>\n",
       "    <tr>\n",
       "      <th>3</th>\n",
       "      <td>1000</td>\n",
       "      <td>1994</td>\n",
       "      <td>Bayesian Query Construction for Neural Network...</td>\n",
       "      <td>NaN</td>\n",
       "      <td>1000-bayesian-query-construction-for-neural-ne...</td>\n",
       "      <td>Abstract Missing</td>\n",
       "      <td>Bayesian Query Construction for Neural\\nNetwor...</td>\n",
       "    </tr>\n",
       "    <tr>\n",
       "      <th>4</th>\n",
       "      <td>1001</td>\n",
       "      <td>1994</td>\n",
       "      <td>Neural Network Ensembles, Cross Validation, an...</td>\n",
       "      <td>NaN</td>\n",
       "      <td>1001-neural-network-ensembles-cross-validation...</td>\n",
       "      <td>Abstract Missing</td>\n",
       "      <td>Neural Network Ensembles, Cross\\nValidation, a...</td>\n",
       "    </tr>\n",
       "  </tbody>\n",
       "</table>\n",
       "</div>"
      ],
      "text/plain": [
       "     id  year                                              title event_type  \\\n",
       "0     1  1987  Self-Organization of Associative Database and ...        NaN   \n",
       "1    10  1987  A Mean Field Theory of Layer IV of Visual Cort...        NaN   \n",
       "2   100  1988  Storing Covariance by the Associative Long-Ter...        NaN   \n",
       "3  1000  1994  Bayesian Query Construction for Neural Network...        NaN   \n",
       "4  1001  1994  Neural Network Ensembles, Cross Validation, an...        NaN   \n",
       "\n",
       "                                            pdf_name          abstract  \\\n",
       "0  1-self-organization-of-associative-database-an...  Abstract Missing   \n",
       "1  10-a-mean-field-theory-of-layer-iv-of-visual-c...  Abstract Missing   \n",
       "2  100-storing-covariance-by-the-associative-long...  Abstract Missing   \n",
       "3  1000-bayesian-query-construction-for-neural-ne...  Abstract Missing   \n",
       "4  1001-neural-network-ensembles-cross-validation...  Abstract Missing   \n",
       "\n",
       "                                          paper_text  \n",
       "0  767\\n\\nSELF-ORGANIZATION OF ASSOCIATIVE DATABA...  \n",
       "1  683\\n\\nA MEAN FIELD THEORY OF LAYER IV OF VISU...  \n",
       "2  394\\n\\nSTORING COVARIANCE BY THE ASSOCIATIVE\\n...  \n",
       "3  Bayesian Query Construction for Neural\\nNetwor...  \n",
       "4  Neural Network Ensembles, Cross\\nValidation, a...  "
      ]
     },
     "execution_count": 3,
     "metadata": {},
     "output_type": "execute_result"
    }
   ],
   "source": [
    "df = pd.read_csv(\"../input/nips-papers/papers.csv\")\n",
    "\n",
    "print(df.shape)\n",
    "df.head()"
   ]
  },
  {
   "cell_type": "code",
   "execution_count": 4,
   "id": "7ee23120",
   "metadata": {
    "execution": {
     "iopub.execute_input": "2022-03-12T02:11:09.730965Z",
     "iopub.status.busy": "2022-03-12T02:11:09.730055Z",
     "iopub.status.idle": "2022-03-12T02:11:09.733535Z",
     "shell.execute_reply": "2022-03-12T02:11:09.732863Z",
     "shell.execute_reply.started": "2022-03-12T02:08:29.963201Z"
    },
    "papermill": {
     "duration": 0.03614,
     "end_time": "2022-03-12T02:11:09.733684",
     "exception": false,
     "start_time": "2022-03-12T02:11:09.697544",
     "status": "completed"
    },
    "tags": []
   },
   "outputs": [],
   "source": [
    "if config.DEBUG:\n",
    "    df = df.sample(config.SAMPLE_SIZE, random_state=config.SEED)"
   ]
  },
  {
   "cell_type": "code",
   "execution_count": 5,
   "id": "1f719ed4",
   "metadata": {
    "execution": {
     "iopub.execute_input": "2022-03-12T02:11:09.795053Z",
     "iopub.status.busy": "2022-03-12T02:11:09.794042Z",
     "iopub.status.idle": "2022-03-12T02:11:09.798432Z",
     "shell.execute_reply": "2022-03-12T02:11:09.797863Z",
     "shell.execute_reply.started": "2022-03-12T02:08:29.973913Z"
    },
    "papermill": {
     "duration": 0.043132,
     "end_time": "2022-03-12T02:11:09.798602",
     "exception": false,
     "start_time": "2022-03-12T02:11:09.755470",
     "status": "completed"
    },
    "tags": []
   },
   "outputs": [],
   "source": [
    "def clean_text(text):\n",
    "    \n",
    "    # convert to lower\n",
    "    text = text.lower()\n",
    "    \n",
    "    # only keep alpha characters\n",
    "    text_alpha_num = re.sub(\"[^a-z]\", \" \", text)\n",
    "    \n",
    "    # remove stopwords and use stemming\n",
    "    lemmatizer = nltk.stem.WordNetLemmatizer()\n",
    "    stopwords_list = set(nltk.corpus.stopwords.words(\"english\"))\n",
    "    stopwords_list.update(['href', 'br'])\n",
    "    \n",
    "    word_list = nltk.tokenize.word_tokenize(text_alpha_num)\n",
    "    words = [lemmatizer.lemmatize(y, pos='v') for y in word_list if y not in stopwords_list and len(y) > 3]\n",
    "    \n",
    "    text_clean = \" \".join(words)\n",
    "    \n",
    "    return text_clean"
   ]
  },
  {
   "cell_type": "code",
   "execution_count": 6,
   "id": "484a99b7",
   "metadata": {
    "execution": {
     "iopub.execute_input": "2022-03-12T02:11:09.879669Z",
     "iopub.status.busy": "2022-03-12T02:11:09.878301Z",
     "iopub.status.idle": "2022-03-12T02:18:17.872846Z",
     "shell.execute_reply": "2022-03-12T02:18:17.871993Z",
     "shell.execute_reply.started": "2022-03-12T02:08:29.989497Z"
    },
    "papermill": {
     "duration": 428.052287,
     "end_time": "2022-03-12T02:18:17.873042",
     "exception": false,
     "start_time": "2022-03-12T02:11:09.820755",
     "status": "completed"
    },
    "tags": []
   },
   "outputs": [
    {
     "data": {
      "application/vnd.jupyter.widget-view+json": {
       "model_id": "c9fcae7c309b44c2912f4ead491ba137",
       "version_major": 2,
       "version_minor": 0
      },
      "text/plain": [
       "  0%|          | 0/7241 [00:00<?, ?it/s]"
      ]
     },
     "metadata": {},
     "output_type": "display_data"
    }
   ],
   "source": [
    "df['paper_text_clean'] = df['paper_text'].progress_apply(clean_text)"
   ]
  },
  {
   "cell_type": "code",
   "execution_count": 7,
   "id": "b30f486c",
   "metadata": {
    "execution": {
     "iopub.execute_input": "2022-03-12T02:18:17.933510Z",
     "iopub.status.busy": "2022-03-12T02:18:17.932752Z",
     "iopub.status.idle": "2022-03-12T02:18:17.937824Z",
     "shell.execute_reply": "2022-03-12T02:18:17.937152Z",
     "shell.execute_reply.started": "2022-03-12T02:09:29.954683Z"
    },
    "papermill": {
     "duration": 0.041938,
     "end_time": "2022-03-12T02:18:17.937983",
     "exception": false,
     "start_time": "2022-03-12T02:18:17.896045",
     "status": "completed"
    },
    "tags": []
   },
   "outputs": [
    {
     "data": {
      "text/html": [
       "<div>\n",
       "<style scoped>\n",
       "    .dataframe tbody tr th:only-of-type {\n",
       "        vertical-align: middle;\n",
       "    }\n",
       "\n",
       "    .dataframe tbody tr th {\n",
       "        vertical-align: top;\n",
       "    }\n",
       "\n",
       "    .dataframe thead th {\n",
       "        text-align: right;\n",
       "    }\n",
       "</style>\n",
       "<table border=\"1\" class=\"dataframe\">\n",
       "  <thead>\n",
       "    <tr style=\"text-align: right;\">\n",
       "      <th></th>\n",
       "      <th>id</th>\n",
       "      <th>year</th>\n",
       "      <th>title</th>\n",
       "      <th>event_type</th>\n",
       "      <th>pdf_name</th>\n",
       "      <th>abstract</th>\n",
       "      <th>paper_text</th>\n",
       "      <th>paper_text_clean</th>\n",
       "    </tr>\n",
       "  </thead>\n",
       "  <tbody>\n",
       "    <tr>\n",
       "      <th>0</th>\n",
       "      <td>1</td>\n",
       "      <td>1987</td>\n",
       "      <td>Self-Organization of Associative Database and ...</td>\n",
       "      <td>NaN</td>\n",
       "      <td>1-self-organization-of-associative-database-an...</td>\n",
       "      <td>Abstract Missing</td>\n",
       "      <td>767\\n\\nSELF-ORGANIZATION OF ASSOCIATIVE DATABA...</td>\n",
       "      <td>self organization associative database applica...</td>\n",
       "    </tr>\n",
       "    <tr>\n",
       "      <th>1</th>\n",
       "      <td>10</td>\n",
       "      <td>1987</td>\n",
       "      <td>A Mean Field Theory of Layer IV of Visual Cort...</td>\n",
       "      <td>NaN</td>\n",
       "      <td>10-a-mean-field-theory-of-layer-iv-of-visual-c...</td>\n",
       "      <td>Abstract Missing</td>\n",
       "      <td>683\\n\\nA MEAN FIELD THEORY OF LAYER IV OF VISU...</td>\n",
       "      <td>mean field theory layer visual cortex applicat...</td>\n",
       "    </tr>\n",
       "    <tr>\n",
       "      <th>2</th>\n",
       "      <td>100</td>\n",
       "      <td>1988</td>\n",
       "      <td>Storing Covariance by the Associative Long-Ter...</td>\n",
       "      <td>NaN</td>\n",
       "      <td>100-storing-covariance-by-the-associative-long...</td>\n",
       "      <td>Abstract Missing</td>\n",
       "      <td>394\\n\\nSTORING COVARIANCE BY THE ASSOCIATIVE\\n...</td>\n",
       "      <td>store covariance associative long term potenti...</td>\n",
       "    </tr>\n",
       "    <tr>\n",
       "      <th>3</th>\n",
       "      <td>1000</td>\n",
       "      <td>1994</td>\n",
       "      <td>Bayesian Query Construction for Neural Network...</td>\n",
       "      <td>NaN</td>\n",
       "      <td>1000-bayesian-query-construction-for-neural-ne...</td>\n",
       "      <td>Abstract Missing</td>\n",
       "      <td>Bayesian Query Construction for Neural\\nNetwor...</td>\n",
       "      <td>bayesian query construction neural network mod...</td>\n",
       "    </tr>\n",
       "    <tr>\n",
       "      <th>4</th>\n",
       "      <td>1001</td>\n",
       "      <td>1994</td>\n",
       "      <td>Neural Network Ensembles, Cross Validation, an...</td>\n",
       "      <td>NaN</td>\n",
       "      <td>1001-neural-network-ensembles-cross-validation...</td>\n",
       "      <td>Abstract Missing</td>\n",
       "      <td>Neural Network Ensembles, Cross\\nValidation, a...</td>\n",
       "      <td>neural network ensembles cross validation acti...</td>\n",
       "    </tr>\n",
       "  </tbody>\n",
       "</table>\n",
       "</div>"
      ],
      "text/plain": [
       "     id  year                                              title event_type  \\\n",
       "0     1  1987  Self-Organization of Associative Database and ...        NaN   \n",
       "1    10  1987  A Mean Field Theory of Layer IV of Visual Cort...        NaN   \n",
       "2   100  1988  Storing Covariance by the Associative Long-Ter...        NaN   \n",
       "3  1000  1994  Bayesian Query Construction for Neural Network...        NaN   \n",
       "4  1001  1994  Neural Network Ensembles, Cross Validation, an...        NaN   \n",
       "\n",
       "                                            pdf_name          abstract  \\\n",
       "0  1-self-organization-of-associative-database-an...  Abstract Missing   \n",
       "1  10-a-mean-field-theory-of-layer-iv-of-visual-c...  Abstract Missing   \n",
       "2  100-storing-covariance-by-the-associative-long...  Abstract Missing   \n",
       "3  1000-bayesian-query-construction-for-neural-ne...  Abstract Missing   \n",
       "4  1001-neural-network-ensembles-cross-validation...  Abstract Missing   \n",
       "\n",
       "                                          paper_text  \\\n",
       "0  767\\n\\nSELF-ORGANIZATION OF ASSOCIATIVE DATABA...   \n",
       "1  683\\n\\nA MEAN FIELD THEORY OF LAYER IV OF VISU...   \n",
       "2  394\\n\\nSTORING COVARIANCE BY THE ASSOCIATIVE\\n...   \n",
       "3  Bayesian Query Construction for Neural\\nNetwor...   \n",
       "4  Neural Network Ensembles, Cross\\nValidation, a...   \n",
       "\n",
       "                                    paper_text_clean  \n",
       "0  self organization associative database applica...  \n",
       "1  mean field theory layer visual cortex applicat...  \n",
       "2  store covariance associative long term potenti...  \n",
       "3  bayesian query construction neural network mod...  \n",
       "4  neural network ensembles cross validation acti...  "
      ]
     },
     "execution_count": 7,
     "metadata": {},
     "output_type": "execute_result"
    }
   ],
   "source": [
    "df.head()"
   ]
  },
  {
   "cell_type": "code",
   "execution_count": 8,
   "id": "bbbafa59",
   "metadata": {
    "execution": {
     "iopub.execute_input": "2022-03-12T02:18:18.019213Z",
     "iopub.status.busy": "2022-03-12T02:18:18.018264Z",
     "iopub.status.idle": "2022-03-12T02:18:18.022666Z",
     "shell.execute_reply": "2022-03-12T02:18:18.023495Z",
     "shell.execute_reply.started": "2022-03-12T02:09:29.973343Z"
    },
    "papermill": {
     "duration": 0.063284,
     "end_time": "2022-03-12T02:18:18.023758",
     "exception": false,
     "start_time": "2022-03-12T02:18:17.960474",
     "status": "completed"
    },
    "tags": []
   },
   "outputs": [
    {
     "name": "stdout",
     "output_type": "stream",
     "text": [
      "<class 'pandas.core.frame.DataFrame'>\n",
      "RangeIndex: 7241 entries, 0 to 7240\n",
      "Data columns (total 8 columns):\n",
      " #   Column            Non-Null Count  Dtype \n",
      "---  ------            --------------  ----- \n",
      " 0   id                7241 non-null   int64 \n",
      " 1   year              7241 non-null   int64 \n",
      " 2   title             7241 non-null   object\n",
      " 3   event_type        2422 non-null   object\n",
      " 4   pdf_name          7241 non-null   object\n",
      " 5   abstract          7241 non-null   object\n",
      " 6   paper_text        7241 non-null   object\n",
      " 7   paper_text_clean  7241 non-null   object\n",
      "dtypes: int64(2), object(6)\n",
      "memory usage: 452.7+ KB\n"
     ]
    }
   ],
   "source": [
    "df.info()"
   ]
  },
  {
   "cell_type": "code",
   "execution_count": 9,
   "id": "b4706a04",
   "metadata": {
    "execution": {
     "iopub.execute_input": "2022-03-12T02:18:18.112129Z",
     "iopub.status.busy": "2022-03-12T02:18:18.111329Z",
     "iopub.status.idle": "2022-03-12T02:18:20.561194Z",
     "shell.execute_reply": "2022-03-12T02:18:20.558491Z",
     "shell.execute_reply.started": "2022-03-12T02:09:39.619676Z"
    },
    "papermill": {
     "duration": 2.511119,
     "end_time": "2022-03-12T02:18:20.561392",
     "exception": false,
     "start_time": "2022-03-12T02:18:18.050273",
     "status": "completed"
    },
    "tags": []
   },
   "outputs": [
    {
     "data": {
      "application/vnd.jupyter.widget-view+json": {
       "model_id": "dc10315b63404a98978036e13c33ab82",
       "version_major": 2,
       "version_minor": 0
      },
      "text/plain": [
       "  0%|          | 0/7241 [00:00<?, ?it/s]"
      ]
     },
     "metadata": {},
     "output_type": "display_data"
    },
    {
     "data": {
      "text/plain": [
       "['self',\n",
       " 'organization',\n",
       " 'associative',\n",
       " 'database',\n",
       " 'applications',\n",
       " 'hisashi',\n",
       " 'suzuki',\n",
       " 'suguru',\n",
       " 'arimoto',\n",
       " 'osaka',\n",
       " 'university',\n",
       " 'toyonaka',\n",
       " 'osaka',\n",
       " 'japan',\n",
       " 'abstract',\n",
       " 'efficient',\n",
       " 'method',\n",
       " 'self',\n",
       " 'organize',\n",
       " 'associative']"
      ]
     },
     "execution_count": 9,
     "metadata": {},
     "output_type": "execute_result"
    }
   ],
   "source": [
    "clean_corpus = []\n",
    "for idx, row in tqdm(df.iterrows(), total=len(df)):\n",
    "    clean_corpus.append(row['paper_text_clean'].split(' '))\n",
    "    \n",
    "clean_corpus[0][:20]"
   ]
  },
  {
   "cell_type": "code",
   "execution_count": 10,
   "id": "918ac71d",
   "metadata": {
    "execution": {
     "iopub.execute_input": "2022-03-12T02:18:20.644556Z",
     "iopub.status.busy": "2022-03-12T02:18:20.639225Z",
     "iopub.status.idle": "2022-03-12T02:18:44.679162Z",
     "shell.execute_reply": "2022-03-12T02:18:44.679799Z",
     "shell.execute_reply.started": "2022-03-12T02:09:41.889121Z"
    },
    "papermill": {
     "duration": 24.092184,
     "end_time": "2022-03-12T02:18:44.680008",
     "exception": false,
     "start_time": "2022-03-12T02:18:20.587824",
     "status": "completed"
    },
    "tags": []
   },
   "outputs": [
    {
     "name": "stdout",
     "output_type": "stream",
     "text": [
      "[[(0, 1), (1, 2), (2, 1), (3, 6), (4, 1), (5, 1), (6, 1), (7, 1), (8, 1), (9, 1), (10, 1), (11, 13), (12, 1), (13, 4), (14, 5), (15, 1), (16, 1), (17, 1), (18, 1), (19, 11), (20, 3), (21, 1), (22, 1), (23, 1), (24, 3), (25, 1), (26, 1), (27, 1), (28, 2), (29, 2), (30, 1), (31, 1), (32, 3), (33, 1), (34, 2), (35, 1), (36, 1), (37, 1), (38, 3), (39, 2), (40, 1), (41, 1), (42, 7), (43, 2), (44, 2), (45, 2), (46, 1), (47, 1), (48, 1), (49, 1), (50, 1), (51, 1), (52, 2), (53, 1), (54, 3), (55, 1), (56, 2), (57, 1), (58, 1), (59, 1), (60, 1), (61, 1), (62, 1), (63, 1), (64, 1), (65, 1), (66, 1), (67, 2), (68, 1), (69, 1), (70, 2), (71, 1), (72, 3), (73, 2), (74, 2), (75, 1), (76, 1), (77, 1), (78, 1), (79, 1), (80, 1), (81, 1), (82, 2), (83, 1), (84, 1), (85, 1), (86, 1), (87, 1), (88, 1), (89, 1), (90, 1), (91, 1), (92, 1), (93, 1), (94, 1), (95, 3), (96, 1), (97, 1), (98, 1), (99, 1), (100, 2), (101, 1), (102, 1), (103, 1), (104, 2), (105, 1), (106, 1), (107, 1), (108, 5), (109, 2), (110, 4), (111, 2), (112, 2), (113, 2), (114, 1), (115, 1), (116, 5), (117, 2), (118, 3), (119, 2), (120, 1), (121, 1), (122, 1), (123, 1), (124, 1), (125, 1), (126, 1), (127, 2), (128, 1), (129, 1), (130, 1), (131, 1), (132, 1), (133, 1), (134, 2), (135, 1), (136, 4), (137, 4), (138, 1), (139, 1), (140, 3), (141, 1), (142, 22), (143, 5), (144, 1), (145, 1), (146, 1), (147, 5), (148, 1), (149, 2), (150, 4), (151, 1), (152, 1), (153, 1), (154, 2), (155, 1), (156, 1), (157, 1), (158, 1), (159, 2), (160, 3), (161, 1), (162, 1), (163, 1), (164, 1), (165, 2), (166, 1), (167, 1), (168, 1), (169, 1), (170, 1), (171, 1), (172, 1), (173, 1), (174, 4), (175, 1), (176, 1), (177, 1), (178, 1), (179, 1), (180, 1), (181, 1), (182, 1), (183, 1), (184, 1), (185, 1), (186, 1), (187, 1), (188, 2), (189, 1), (190, 1), (191, 1), (192, 1), (193, 1), (194, 1)]]\n"
     ]
    }
   ],
   "source": [
    "id2word = gensim.corpora.Dictionary(clean_corpus)\n",
    "id2word.filter_extremes(no_below=15, no_above=0.1, keep_n= 100000)\n",
    "\n",
    "# Create Corpus\n",
    "texts = clean_corpus\n",
    "\n",
    "# Term Document Frequency\n",
    "bow_corpus = [id2word.doc2bow(text) for text in texts]\n",
    "\n",
    "# View\n",
    "print(bow_corpus[:1])"
   ]
  },
  {
   "cell_type": "code",
   "execution_count": 11,
   "id": "713be790",
   "metadata": {
    "execution": {
     "iopub.execute_input": "2022-03-12T02:18:44.736424Z",
     "iopub.status.busy": "2022-03-12T02:18:44.733323Z",
     "iopub.status.idle": "2022-03-12T02:19:02.097188Z",
     "shell.execute_reply": "2022-03-12T02:19:02.096484Z",
     "shell.execute_reply.started": "2022-03-12T02:09:44.987063Z"
    },
    "papermill": {
     "duration": 17.39226,
     "end_time": "2022-03-12T02:19:02.097389",
     "exception": false,
     "start_time": "2022-03-12T02:18:44.705129",
     "status": "completed"
    },
    "tags": []
   },
   "outputs": [],
   "source": [
    "# Build LDA model\n",
    "lda_model_bow = gensim.models.LdaMulticore(\n",
    "    bow_corpus, \n",
    "    num_topics=10, \n",
    "    id2word=id2word, \n",
    "    passes=2, \n",
    "    workers=4,\n",
    "    random_state=config.SEED\n",
    ")"
   ]
  },
  {
   "cell_type": "code",
   "execution_count": 12,
   "id": "08f3774c",
   "metadata": {
    "execution": {
     "iopub.execute_input": "2022-03-12T02:19:02.153561Z",
     "iopub.status.busy": "2022-03-12T02:19:02.152831Z",
     "iopub.status.idle": "2022-03-12T02:19:02.162788Z",
     "shell.execute_reply": "2022-03-12T02:19:02.163319Z",
     "shell.execute_reply.started": "2022-03-12T02:09:50.807288Z"
    },
    "papermill": {
     "duration": 0.041494,
     "end_time": "2022-03-12T02:19:02.163520",
     "exception": false,
     "start_time": "2022-03-12T02:19:02.122026",
     "status": "completed"
    },
    "tags": []
   },
   "outputs": [
    {
     "name": "stdout",
     "output_type": "stream",
     "text": [
      "Topic: 0 Word: 0.012*\"regret\" + 0.006*\"bandit\" + 0.005*\"arm\" + 0.005*\"hash\" + 0.004*\"motor\" + 0.003*\"vertices\" + 0.003*\"expert\" + 0.003*\"topics\" + 0.003*\"player\" + 0.003*\"vertex\"\n",
      "\n",
      "Topic: 1 Word: 0.004*\"lasso\" + 0.004*\"tensor\" + 0.003*\"stream\" + 0.003*\"regret\" + 0.003*\"speaker\" + 0.003*\"parse\" + 0.002*\"sentence\" + 0.002*\"utility\" + 0.002*\"moments\" + 0.002*\"submodular\"\n",
      "\n",
      "Topic: 2 Word: 0.004*\"policies\" + 0.003*\"fire\" + 0.003*\"trajectories\" + 0.003*\"oracle\" + 0.002*\"poisson\" + 0.002*\"agent\" + 0.002*\"analog\" + 0.002*\"motor\" + 0.002*\"wavelet\" + 0.002*\"receptive\"\n",
      "\n",
      "Topic: 3 Word: 0.007*\"causal\" + 0.004*\"agent\" + 0.004*\"parent\" + 0.003*\"message\" + 0.003*\"dirichlet\" + 0.003*\"fire\" + 0.003*\"head\" + 0.002*\"sensor\" + 0.002*\"character\" + 0.002*\"vertices\"\n",
      "\n",
      "Topic: 4 Word: 0.010*\"regret\" + 0.006*\"patch\" + 0.005*\"agent\" + 0.005*\"contour\" + 0.003*\"agents\" + 0.003*\"chip\" + 0.003*\"price\" + 0.002*\"auction\" + 0.002*\"mdps\" + 0.002*\"arm\"\n",
      "\n",
      "Topic: 5 Word: 0.008*\"tensor\" + 0.005*\"synaptic\" + 0.004*\"fire\" + 0.004*\"unlabeled\" + 0.004*\"completion\" + 0.003*\"cortical\" + 0.003*\"recovery\" + 0.002*\"poisson\" + 0.002*\"privacy\" + 0.002*\"excitatory\"\n",
      "\n",
      "Topic: 6 Word: 0.005*\"synaptic\" + 0.005*\"gate\" + 0.004*\"fire\" + 0.004*\"agent\" + 0.004*\"submodular\" + 0.003*\"video\" + 0.003*\"privacy\" + 0.003*\"synapses\" + 0.002*\"voltage\" + 0.002*\"perceptron\"\n",
      "\n",
      "Topic: 7 Word: 0.005*\"regret\" + 0.003*\"saliency\" + 0.003*\"ensemble\" + 0.002*\"convolutional\" + 0.002*\"analog\" + 0.002*\"chip\" + 0.002*\"teacher\" + 0.002*\"mask\" + 0.002*\"receptive\" + 0.002*\"prune\"\n",
      "\n",
      "Topic: 8 Word: 0.005*\"convolutional\" + 0.004*\"lasso\" + 0.004*\"message\" + 0.004*\"items\" + 0.003*\"adversarial\" + 0.003*\"item\" + 0.003*\"mnist\" + 0.003*\"proximal\" + 0.003*\"semantic\" + 0.002*\"manifold\"\n",
      "\n",
      "Topic: 9 Word: 0.009*\"manifold\" + 0.005*\"sentence\" + 0.003*\"submodular\" + 0.003*\"mutual\" + 0.003*\"dictionary\" + 0.002*\"patch\" + 0.002*\"expert\" + 0.002*\"unlabeled\" + 0.002*\"embeddings\" + 0.002*\"robot\"\n",
      "\n"
     ]
    }
   ],
   "source": [
    "for idx, topic in lda_model_bow.print_topics(-1):\n",
    "    print('Topic: {} Word: {}'.format(idx, topic))\n",
    "    print()"
   ]
  },
  {
   "cell_type": "code",
   "execution_count": 13,
   "id": "bf3c97e9",
   "metadata": {
    "execution": {
     "iopub.execute_input": "2022-03-12T02:19:02.287548Z",
     "iopub.status.busy": "2022-03-12T02:19:02.250777Z",
     "iopub.status.idle": "2022-03-12T02:19:40.551809Z",
     "shell.execute_reply": "2022-03-12T02:19:40.552317Z",
     "shell.execute_reply.started": "2022-03-12T02:09:50.817983Z"
    },
    "papermill": {
     "duration": 38.364235,
     "end_time": "2022-03-12T02:19:40.552565",
     "exception": false,
     "start_time": "2022-03-12T02:19:02.188330",
     "status": "completed"
    },
    "tags": []
   },
   "outputs": [],
   "source": [
    "tfidf = gensim.models.TfidfModel(bow_corpus)\n",
    "corpus_tfidf = tfidf[bow_corpus]\n",
    "lda_model_tfidf = gensim.models.LdaMulticore(\n",
    "    corpus_tfidf, \n",
    "    num_topics=10, \n",
    "    id2word=id2word, \n",
    "    passes=2, \n",
    "    workers=4,\n",
    "    random_state=config.SEED\n",
    ")"
   ]
  },
  {
   "cell_type": "code",
   "execution_count": 14,
   "id": "788d7b3f",
   "metadata": {
    "execution": {
     "iopub.execute_input": "2022-03-12T02:19:40.606331Z",
     "iopub.status.busy": "2022-03-12T02:19:40.605332Z",
     "iopub.status.idle": "2022-03-12T02:19:40.617545Z",
     "shell.execute_reply": "2022-03-12T02:19:40.616594Z",
     "shell.execute_reply.started": "2022-03-12T02:09:57.710206Z"
    },
    "papermill": {
     "duration": 0.040051,
     "end_time": "2022-03-12T02:19:40.617753",
     "exception": false,
     "start_time": "2022-03-12T02:19:40.577702",
     "status": "completed"
    },
    "tags": []
   },
   "outputs": [
    {
     "name": "stdout",
     "output_type": "stream",
     "text": [
      "Topic: 0 Word: 0.002*\"regret\" + 0.002*\"motor\" + 0.001*\"expert\" + 0.001*\"robot\" + 0.001*\"recovery\" + 0.001*\"topics\" + 0.001*\"lasso\" + 0.001*\"hash\" + 0.001*\"trajectories\" + 0.001*\"anneal\"\n",
      "\n",
      "Topic: 1 Word: 0.002*\"tensor\" + 0.001*\"regret\" + 0.001*\"message\" + 0.001*\"fire\" + 0.001*\"video\" + 0.001*\"lasso\" + 0.001*\"synaptic\" + 0.001*\"marginals\" + 0.001*\"bethe\" + 0.001*\"moments\"\n",
      "\n",
      "Topic: 2 Word: 0.002*\"fire\" + 0.001*\"poisson\" + 0.001*\"wavelet\" + 0.001*\"agent\" + 0.001*\"oracle\" + 0.001*\"mutual\" + 0.001*\"warp\" + 0.001*\"receptive\" + 0.001*\"policies\" + 0.001*\"robot\"\n",
      "\n",
      "Topic: 3 Word: 0.002*\"causal\" + 0.002*\"message\" + 0.001*\"parent\" + 0.001*\"agent\" + 0.001*\"vertex\" + 0.001*\"dirichlet\" + 0.001*\"manifold\" + 0.001*\"fire\" + 0.001*\"sampler\" + 0.001*\"mcmc\"\n",
      "\n",
      "Topic: 4 Word: 0.004*\"regret\" + 0.002*\"lasso\" + 0.002*\"bandit\" + 0.002*\"arm\" + 0.002*\"contour\" + 0.001*\"patch\" + 0.001*\"learner\" + 0.001*\"bandits\" + 0.001*\"agent\" + 0.001*\"unlabeled\"\n",
      "\n",
      "Topic: 5 Word: 0.002*\"tensor\" + 0.001*\"unlabeled\" + 0.001*\"completion\" + 0.001*\"manifold\" + 0.001*\"proximal\" + 0.001*\"lasso\" + 0.001*\"synaptic\" + 0.001*\"fire\" + 0.001*\"privacy\" + 0.001*\"admm\"\n",
      "\n",
      "Topic: 6 Word: 0.003*\"synaptic\" + 0.002*\"fire\" + 0.002*\"synapses\" + 0.002*\"gate\" + 0.001*\"synapse\" + 0.001*\"membrane\" + 0.001*\"regret\" + 0.001*\"postsynaptic\" + 0.001*\"submodular\" + 0.001*\"policies\"\n",
      "\n",
      "Topic: 7 Word: 0.003*\"regret\" + 0.002*\"chip\" + 0.002*\"agent\" + 0.001*\"learner\" + 0.001*\"adaboost\" + 0.001*\"analog\" + 0.001*\"convolutional\" + 0.001*\"teacher\" + 0.001*\"bandit\" + 0.001*\"auditory\"\n",
      "\n",
      "Topic: 8 Word: 0.002*\"dirichlet\" + 0.002*\"message\" + 0.002*\"submodular\" + 0.001*\"semantic\" + 0.001*\"items\" + 0.001*\"agent\" + 0.001*\"topics\" + 0.001*\"unlabeled\" + 0.001*\"manifold\" + 0.001*\"gamma\"\n",
      "\n",
      "Topic: 9 Word: 0.002*\"manifold\" + 0.002*\"patch\" + 0.001*\"sentence\" + 0.001*\"unlabeled\" + 0.001*\"submodular\" + 0.001*\"mnist\" + 0.001*\"mutual\" + 0.001*\"convolutional\" + 0.001*\"alignment\" + 0.001*\"video\"\n",
      "\n"
     ]
    }
   ],
   "source": [
    "for idx, topic in lda_model_tfidf.print_topics(-1):\n",
    "    print('Topic: {} Word: {}'.format(idx, topic))\n",
    "    print()"
   ]
  },
  {
   "cell_type": "markdown",
   "id": "6031da25",
   "metadata": {
    "papermill": {
     "duration": 0.024304,
     "end_time": "2022-03-12T02:19:40.668255",
     "exception": false,
     "start_time": "2022-03-12T02:19:40.643951",
     "status": "completed"
    },
    "tags": []
   },
   "source": [
    "# Test on one paper"
   ]
  },
  {
   "cell_type": "code",
   "execution_count": 15,
   "id": "e13da784",
   "metadata": {
    "execution": {
     "iopub.execute_input": "2022-03-12T02:19:40.722759Z",
     "iopub.status.busy": "2022-03-12T02:19:40.722107Z",
     "iopub.status.idle": "2022-03-12T02:19:40.727375Z",
     "shell.execute_reply": "2022-03-12T02:19:40.727880Z",
     "shell.execute_reply.started": "2022-03-12T02:10:20.303435Z"
    },
    "papermill": {
     "duration": 0.034083,
     "end_time": "2022-03-12T02:19:40.728049",
     "exception": false,
     "start_time": "2022-03-12T02:19:40.693966",
     "status": "completed"
    },
    "tags": []
   },
   "outputs": [
    {
     "data": {
      "text/plain": [
       "['quadratic',\n",
       " 'type',\n",
       " 'lyapunov',\n",
       " 'function',\n",
       " 'competitive',\n",
       " 'neural',\n",
       " 'network',\n",
       " 'different',\n",
       " 'time',\n",
       " 'scale',\n",
       " 'anke',\n",
       " 'meyer',\n",
       " 'base',\n",
       " 'institute',\n",
       " 'technical',\n",
       " 'informatics',\n",
       " 'technical',\n",
       " 'university',\n",
       " 'darmstadt',\n",
       " 'darmstadt']"
      ]
     },
     "execution_count": 15,
     "metadata": {},
     "output_type": "execute_result"
    }
   ],
   "source": [
    "clean_corpus[43][:20]"
   ]
  },
  {
   "cell_type": "code",
   "execution_count": 16,
   "id": "786a0338",
   "metadata": {
    "execution": {
     "iopub.execute_input": "2022-03-12T02:19:40.788093Z",
     "iopub.status.busy": "2022-03-12T02:19:40.786368Z",
     "iopub.status.idle": "2022-03-12T02:19:40.795311Z",
     "shell.execute_reply": "2022-03-12T02:19:40.794519Z",
     "shell.execute_reply.started": "2022-03-12T02:10:09.375087Z"
    },
    "papermill": {
     "duration": 0.042045,
     "end_time": "2022-03-12T02:19:40.795538",
     "exception": false,
     "start_time": "2022-03-12T02:19:40.753493",
     "status": "completed"
    },
    "tags": []
   },
   "outputs": [
    {
     "name": "stdout",
     "output_type": "stream",
     "text": [
      "\n",
      "Score: 0.8058199286460876\t \n",
      "Topic: 0.008*\"tensor\" + 0.005*\"synaptic\" + 0.004*\"fire\" + 0.004*\"unlabeled\" + 0.004*\"completion\" + 0.003*\"cortical\" + 0.003*\"recovery\" + 0.002*\"poisson\" + 0.002*\"privacy\" + 0.002*\"excitatory\"\n",
      "\n",
      "Score: 0.18537653982639313\t \n",
      "Topic: 0.005*\"regret\" + 0.003*\"saliency\" + 0.003*\"ensemble\" + 0.002*\"convolutional\" + 0.002*\"analog\" + 0.002*\"chip\" + 0.002*\"teacher\" + 0.002*\"mask\" + 0.002*\"receptive\" + 0.002*\"prune\"\n"
     ]
    }
   ],
   "source": [
    "for index, score in sorted(lda_model_bow[bow_corpus[43]], key=lambda tup: -1*tup[1]):\n",
    "    print(\"\\nScore: {}\\t \\nTopic: {}\".format(score, lda_model_bow.print_topic(index, 10)))"
   ]
  },
  {
   "cell_type": "code",
   "execution_count": 17,
   "id": "d9aebdbf",
   "metadata": {
    "execution": {
     "iopub.execute_input": "2022-03-12T02:19:40.855080Z",
     "iopub.status.busy": "2022-03-12T02:19:40.854098Z",
     "iopub.status.idle": "2022-03-12T02:19:40.869165Z",
     "shell.execute_reply": "2022-03-12T02:19:40.869920Z",
     "shell.execute_reply.started": "2022-03-12T02:10:09.777488Z"
    },
    "papermill": {
     "duration": 0.047139,
     "end_time": "2022-03-12T02:19:40.870160",
     "exception": false,
     "start_time": "2022-03-12T02:19:40.823021",
     "status": "completed"
    },
    "tags": []
   },
   "outputs": [
    {
     "name": "stdout",
     "output_type": "stream",
     "text": [
      "\n",
      "Score: 0.7367550134658813\t \n",
      "Topic: 0.004*\"regret\" + 0.002*\"lasso\" + 0.002*\"bandit\" + 0.002*\"arm\" + 0.002*\"contour\" + 0.001*\"patch\" + 0.001*\"learner\" + 0.001*\"bandits\" + 0.001*\"agent\" + 0.001*\"unlabeled\"\n",
      "\n",
      "Score: 0.1184585839509964\t \n",
      "Topic: 0.003*\"synaptic\" + 0.002*\"fire\" + 0.002*\"synapses\" + 0.002*\"gate\" + 0.001*\"synapse\" + 0.001*\"membrane\" + 0.001*\"regret\" + 0.001*\"postsynaptic\" + 0.001*\"submodular\" + 0.001*\"policies\"\n",
      "\n",
      "Score: 0.018099350854754448\t \n",
      "Topic: 0.002*\"causal\" + 0.002*\"message\" + 0.001*\"parent\" + 0.001*\"agent\" + 0.001*\"vertex\" + 0.001*\"dirichlet\" + 0.001*\"manifold\" + 0.001*\"fire\" + 0.001*\"sampler\" + 0.001*\"mcmc\"\n",
      "\n",
      "Score: 0.01809931918978691\t \n",
      "Topic: 0.002*\"tensor\" + 0.001*\"unlabeled\" + 0.001*\"completion\" + 0.001*\"manifold\" + 0.001*\"proximal\" + 0.001*\"lasso\" + 0.001*\"synaptic\" + 0.001*\"fire\" + 0.001*\"privacy\" + 0.001*\"admm\"\n",
      "\n",
      "Score: 0.018099239096045494\t \n",
      "Topic: 0.003*\"regret\" + 0.002*\"chip\" + 0.002*\"agent\" + 0.001*\"learner\" + 0.001*\"adaboost\" + 0.001*\"analog\" + 0.001*\"convolutional\" + 0.001*\"teacher\" + 0.001*\"bandit\" + 0.001*\"auditory\"\n",
      "\n",
      "Score: 0.018098605796694756\t \n",
      "Topic: 0.002*\"fire\" + 0.001*\"poisson\" + 0.001*\"wavelet\" + 0.001*\"agent\" + 0.001*\"oracle\" + 0.001*\"mutual\" + 0.001*\"warp\" + 0.001*\"receptive\" + 0.001*\"policies\" + 0.001*\"robot\"\n",
      "\n",
      "Score: 0.018098171800374985\t \n",
      "Topic: 0.002*\"regret\" + 0.002*\"motor\" + 0.001*\"expert\" + 0.001*\"robot\" + 0.001*\"recovery\" + 0.001*\"topics\" + 0.001*\"lasso\" + 0.001*\"hash\" + 0.001*\"trajectories\" + 0.001*\"anneal\"\n",
      "\n",
      "Score: 0.018097655847668648\t \n",
      "Topic: 0.002*\"tensor\" + 0.001*\"regret\" + 0.001*\"message\" + 0.001*\"fire\" + 0.001*\"video\" + 0.001*\"lasso\" + 0.001*\"synaptic\" + 0.001*\"marginals\" + 0.001*\"bethe\" + 0.001*\"moments\"\n",
      "\n",
      "Score: 0.018097348511219025\t \n",
      "Topic: 0.002*\"manifold\" + 0.002*\"patch\" + 0.001*\"sentence\" + 0.001*\"unlabeled\" + 0.001*\"submodular\" + 0.001*\"mnist\" + 0.001*\"mutual\" + 0.001*\"convolutional\" + 0.001*\"alignment\" + 0.001*\"video\"\n",
      "\n",
      "Score: 0.018096689134836197\t \n",
      "Topic: 0.002*\"dirichlet\" + 0.002*\"message\" + 0.002*\"submodular\" + 0.001*\"semantic\" + 0.001*\"items\" + 0.001*\"agent\" + 0.001*\"topics\" + 0.001*\"unlabeled\" + 0.001*\"manifold\" + 0.001*\"gamma\"\n"
     ]
    }
   ],
   "source": [
    "for index, score in sorted(lda_model_tfidf[corpus_tfidf[43]], key=lambda tup: -1*tup[1]):\n",
    "    print(\"\\nScore: {}\\t \\nTopic: {}\".format(score, lda_model_tfidf.print_topic(index, 10)))"
   ]
  },
  {
   "cell_type": "code",
   "execution_count": null,
   "id": "bfbbb598",
   "metadata": {
    "papermill": {
     "duration": 0.026104,
     "end_time": "2022-03-12T02:19:40.925392",
     "exception": false,
     "start_time": "2022-03-12T02:19:40.899288",
     "status": "completed"
    },
    "tags": []
   },
   "outputs": [],
   "source": []
  },
  {
   "cell_type": "code",
   "execution_count": null,
   "id": "6d916183",
   "metadata": {
    "papermill": {
     "duration": 0.027058,
     "end_time": "2022-03-12T02:19:40.978882",
     "exception": false,
     "start_time": "2022-03-12T02:19:40.951824",
     "status": "completed"
    },
    "tags": []
   },
   "outputs": [],
   "source": []
  }
 ],
 "metadata": {
  "kernelspec": {
   "display_name": "Python 3",
   "language": "python",
   "name": "python3"
  },
  "language_info": {
   "codemirror_mode": {
    "name": "ipython",
    "version": 3
   },
   "file_extension": ".py",
   "mimetype": "text/x-python",
   "name": "python",
   "nbconvert_exporter": "python",
   "pygments_lexer": "ipython3",
   "version": "3.7.12"
  },
  "papermill": {
   "default_parameters": {},
   "duration": 531.481397,
   "end_time": "2022-03-12T02:19:43.126062",
   "environment_variables": {},
   "exception": null,
   "input_path": "__notebook__.ipynb",
   "output_path": "__notebook__.ipynb",
   "parameters": {},
   "start_time": "2022-03-12T02:10:51.644665",
   "version": "2.3.3"
  },
  "widgets": {
   "application/vnd.jupyter.widget-state+json": {
    "state": {
     "2953e5228cb94009800af3bbe456880f": {
      "model_module": "@jupyter-widgets/base",
      "model_module_version": "1.2.0",
      "model_name": "LayoutModel",
      "state": {
       "_model_module": "@jupyter-widgets/base",
       "_model_module_version": "1.2.0",
       "_model_name": "LayoutModel",
       "_view_count": null,
       "_view_module": "@jupyter-widgets/base",
       "_view_module_version": "1.2.0",
       "_view_name": "LayoutView",
       "align_content": null,
       "align_items": null,
       "align_self": null,
       "border": null,
       "bottom": null,
       "display": null,
       "flex": null,
       "flex_flow": null,
       "grid_area": null,
       "grid_auto_columns": null,
       "grid_auto_flow": null,
       "grid_auto_rows": null,
       "grid_column": null,
       "grid_gap": null,
       "grid_row": null,
       "grid_template_areas": null,
       "grid_template_columns": null,
       "grid_template_rows": null,
       "height": null,
       "justify_content": null,
       "justify_items": null,
       "left": null,
       "margin": null,
       "max_height": null,
       "max_width": null,
       "min_height": null,
       "min_width": null,
       "object_fit": null,
       "object_position": null,
       "order": null,
       "overflow": null,
       "overflow_x": null,
       "overflow_y": null,
       "padding": null,
       "right": null,
       "top": null,
       "visibility": null,
       "width": null
      }
     },
     "2a1ea934ca48493bb0517d027b24c6af": {
      "model_module": "@jupyter-widgets/base",
      "model_module_version": "1.2.0",
      "model_name": "LayoutModel",
      "state": {
       "_model_module": "@jupyter-widgets/base",
       "_model_module_version": "1.2.0",
       "_model_name": "LayoutModel",
       "_view_count": null,
       "_view_module": "@jupyter-widgets/base",
       "_view_module_version": "1.2.0",
       "_view_name": "LayoutView",
       "align_content": null,
       "align_items": null,
       "align_self": null,
       "border": null,
       "bottom": null,
       "display": null,
       "flex": null,
       "flex_flow": null,
       "grid_area": null,
       "grid_auto_columns": null,
       "grid_auto_flow": null,
       "grid_auto_rows": null,
       "grid_column": null,
       "grid_gap": null,
       "grid_row": null,
       "grid_template_areas": null,
       "grid_template_columns": null,
       "grid_template_rows": null,
       "height": null,
       "justify_content": null,
       "justify_items": null,
       "left": null,
       "margin": null,
       "max_height": null,
       "max_width": null,
       "min_height": null,
       "min_width": null,
       "object_fit": null,
       "object_position": null,
       "order": null,
       "overflow": null,
       "overflow_x": null,
       "overflow_y": null,
       "padding": null,
       "right": null,
       "top": null,
       "visibility": null,
       "width": null
      }
     },
     "390b887cbe0640389d9402a8d7132a76": {
      "model_module": "@jupyter-widgets/controls",
      "model_module_version": "1.5.0",
      "model_name": "HTMLModel",
      "state": {
       "_dom_classes": [],
       "_model_module": "@jupyter-widgets/controls",
       "_model_module_version": "1.5.0",
       "_model_name": "HTMLModel",
       "_view_count": null,
       "_view_module": "@jupyter-widgets/controls",
       "_view_module_version": "1.5.0",
       "_view_name": "HTMLView",
       "description": "",
       "description_tooltip": null,
       "layout": "IPY_MODEL_2a1ea934ca48493bb0517d027b24c6af",
       "placeholder": "​",
       "style": "IPY_MODEL_63fb797bc02f43eb9c2e5aea930dff50",
       "value": " 7241/7241 [07:08&lt;00:00, 26.57it/s]"
      }
     },
     "3d4e9927d43c491fa7d892f066d843fd": {
      "model_module": "@jupyter-widgets/base",
      "model_module_version": "1.2.0",
      "model_name": "LayoutModel",
      "state": {
       "_model_module": "@jupyter-widgets/base",
       "_model_module_version": "1.2.0",
       "_model_name": "LayoutModel",
       "_view_count": null,
       "_view_module": "@jupyter-widgets/base",
       "_view_module_version": "1.2.0",
       "_view_name": "LayoutView",
       "align_content": null,
       "align_items": null,
       "align_self": null,
       "border": null,
       "bottom": null,
       "display": null,
       "flex": null,
       "flex_flow": null,
       "grid_area": null,
       "grid_auto_columns": null,
       "grid_auto_flow": null,
       "grid_auto_rows": null,
       "grid_column": null,
       "grid_gap": null,
       "grid_row": null,
       "grid_template_areas": null,
       "grid_template_columns": null,
       "grid_template_rows": null,
       "height": null,
       "justify_content": null,
       "justify_items": null,
       "left": null,
       "margin": null,
       "max_height": null,
       "max_width": null,
       "min_height": null,
       "min_width": null,
       "object_fit": null,
       "object_position": null,
       "order": null,
       "overflow": null,
       "overflow_x": null,
       "overflow_y": null,
       "padding": null,
       "right": null,
       "top": null,
       "visibility": null,
       "width": null
      }
     },
     "5a2764dad7f346419b06856c756ba5fc": {
      "model_module": "@jupyter-widgets/controls",
      "model_module_version": "1.5.0",
      "model_name": "DescriptionStyleModel",
      "state": {
       "_model_module": "@jupyter-widgets/controls",
       "_model_module_version": "1.5.0",
       "_model_name": "DescriptionStyleModel",
       "_view_count": null,
       "_view_module": "@jupyter-widgets/base",
       "_view_module_version": "1.2.0",
       "_view_name": "StyleView",
       "description_width": ""
      }
     },
     "607e9c7597fb4fe48371590904b17124": {
      "model_module": "@jupyter-widgets/controls",
      "model_module_version": "1.5.0",
      "model_name": "ProgressStyleModel",
      "state": {
       "_model_module": "@jupyter-widgets/controls",
       "_model_module_version": "1.5.0",
       "_model_name": "ProgressStyleModel",
       "_view_count": null,
       "_view_module": "@jupyter-widgets/base",
       "_view_module_version": "1.2.0",
       "_view_name": "StyleView",
       "bar_color": null,
       "description_width": ""
      }
     },
     "63fb797bc02f43eb9c2e5aea930dff50": {
      "model_module": "@jupyter-widgets/controls",
      "model_module_version": "1.5.0",
      "model_name": "DescriptionStyleModel",
      "state": {
       "_model_module": "@jupyter-widgets/controls",
       "_model_module_version": "1.5.0",
       "_model_name": "DescriptionStyleModel",
       "_view_count": null,
       "_view_module": "@jupyter-widgets/base",
       "_view_module_version": "1.2.0",
       "_view_name": "StyleView",
       "description_width": ""
      }
     },
     "6e70f7b655744c64ab03cdc342d72f16": {
      "model_module": "@jupyter-widgets/controls",
      "model_module_version": "1.5.0",
      "model_name": "HTMLModel",
      "state": {
       "_dom_classes": [],
       "_model_module": "@jupyter-widgets/controls",
       "_model_module_version": "1.5.0",
       "_model_name": "HTMLModel",
       "_view_count": null,
       "_view_module": "@jupyter-widgets/controls",
       "_view_module_version": "1.5.0",
       "_view_name": "HTMLView",
       "description": "",
       "description_tooltip": null,
       "layout": "IPY_MODEL_de9e9f95f5614ca98d60810ff3d72275",
       "placeholder": "​",
       "style": "IPY_MODEL_5a2764dad7f346419b06856c756ba5fc",
       "value": " 7241/7241 [00:02&lt;00:00, 2786.03it/s]"
      }
     },
     "75e90a50c97b4d5da331be2c3397e26f": {
      "model_module": "@jupyter-widgets/controls",
      "model_module_version": "1.5.0",
      "model_name": "HTMLModel",
      "state": {
       "_dom_classes": [],
       "_model_module": "@jupyter-widgets/controls",
       "_model_module_version": "1.5.0",
       "_model_name": "HTMLModel",
       "_view_count": null,
       "_view_module": "@jupyter-widgets/controls",
       "_view_module_version": "1.5.0",
       "_view_name": "HTMLView",
       "description": "",
       "description_tooltip": null,
       "layout": "IPY_MODEL_3d4e9927d43c491fa7d892f066d843fd",
       "placeholder": "​",
       "style": "IPY_MODEL_91435c2dc6ef4f69909efa5463adcabf",
       "value": "100%"
      }
     },
     "7f08052ec8a94117baa805f4e0df2fb5": {
      "model_module": "@jupyter-widgets/base",
      "model_module_version": "1.2.0",
      "model_name": "LayoutModel",
      "state": {
       "_model_module": "@jupyter-widgets/base",
       "_model_module_version": "1.2.0",
       "_model_name": "LayoutModel",
       "_view_count": null,
       "_view_module": "@jupyter-widgets/base",
       "_view_module_version": "1.2.0",
       "_view_name": "LayoutView",
       "align_content": null,
       "align_items": null,
       "align_self": null,
       "border": null,
       "bottom": null,
       "display": null,
       "flex": null,
       "flex_flow": null,
       "grid_area": null,
       "grid_auto_columns": null,
       "grid_auto_flow": null,
       "grid_auto_rows": null,
       "grid_column": null,
       "grid_gap": null,
       "grid_row": null,
       "grid_template_areas": null,
       "grid_template_columns": null,
       "grid_template_rows": null,
       "height": null,
       "justify_content": null,
       "justify_items": null,
       "left": null,
       "margin": null,
       "max_height": null,
       "max_width": null,
       "min_height": null,
       "min_width": null,
       "object_fit": null,
       "object_position": null,
       "order": null,
       "overflow": null,
       "overflow_x": null,
       "overflow_y": null,
       "padding": null,
       "right": null,
       "top": null,
       "visibility": null,
       "width": null
      }
     },
     "8fa435b1b1ef46ce861c1700b9f6d060": {
      "model_module": "@jupyter-widgets/base",
      "model_module_version": "1.2.0",
      "model_name": "LayoutModel",
      "state": {
       "_model_module": "@jupyter-widgets/base",
       "_model_module_version": "1.2.0",
       "_model_name": "LayoutModel",
       "_view_count": null,
       "_view_module": "@jupyter-widgets/base",
       "_view_module_version": "1.2.0",
       "_view_name": "LayoutView",
       "align_content": null,
       "align_items": null,
       "align_self": null,
       "border": null,
       "bottom": null,
       "display": null,
       "flex": null,
       "flex_flow": null,
       "grid_area": null,
       "grid_auto_columns": null,
       "grid_auto_flow": null,
       "grid_auto_rows": null,
       "grid_column": null,
       "grid_gap": null,
       "grid_row": null,
       "grid_template_areas": null,
       "grid_template_columns": null,
       "grid_template_rows": null,
       "height": null,
       "justify_content": null,
       "justify_items": null,
       "left": null,
       "margin": null,
       "max_height": null,
       "max_width": null,
       "min_height": null,
       "min_width": null,
       "object_fit": null,
       "object_position": null,
       "order": null,
       "overflow": null,
       "overflow_x": null,
       "overflow_y": null,
       "padding": null,
       "right": null,
       "top": null,
       "visibility": null,
       "width": null
      }
     },
     "91435c2dc6ef4f69909efa5463adcabf": {
      "model_module": "@jupyter-widgets/controls",
      "model_module_version": "1.5.0",
      "model_name": "DescriptionStyleModel",
      "state": {
       "_model_module": "@jupyter-widgets/controls",
       "_model_module_version": "1.5.0",
       "_model_name": "DescriptionStyleModel",
       "_view_count": null,
       "_view_module": "@jupyter-widgets/base",
       "_view_module_version": "1.2.0",
       "_view_name": "StyleView",
       "description_width": ""
      }
     },
     "a17af54e34664829973a5078f70ef392": {
      "model_module": "@jupyter-widgets/controls",
      "model_module_version": "1.5.0",
      "model_name": "FloatProgressModel",
      "state": {
       "_dom_classes": [],
       "_model_module": "@jupyter-widgets/controls",
       "_model_module_version": "1.5.0",
       "_model_name": "FloatProgressModel",
       "_view_count": null,
       "_view_module": "@jupyter-widgets/controls",
       "_view_module_version": "1.5.0",
       "_view_name": "ProgressView",
       "bar_style": "success",
       "description": "",
       "description_tooltip": null,
       "layout": "IPY_MODEL_de5db00e23024bf4a9416fa5be3f86bc",
       "max": 7241.0,
       "min": 0.0,
       "orientation": "horizontal",
       "style": "IPY_MODEL_607e9c7597fb4fe48371590904b17124",
       "value": 7241.0
      }
     },
     "b15551d3f0754aeeb4e0fe0c85dec9d8": {
      "model_module": "@jupyter-widgets/controls",
      "model_module_version": "1.5.0",
      "model_name": "FloatProgressModel",
      "state": {
       "_dom_classes": [],
       "_model_module": "@jupyter-widgets/controls",
       "_model_module_version": "1.5.0",
       "_model_name": "FloatProgressModel",
       "_view_count": null,
       "_view_module": "@jupyter-widgets/controls",
       "_view_module_version": "1.5.0",
       "_view_name": "ProgressView",
       "bar_style": "success",
       "description": "",
       "description_tooltip": null,
       "layout": "IPY_MODEL_7f08052ec8a94117baa805f4e0df2fb5",
       "max": 7241.0,
       "min": 0.0,
       "orientation": "horizontal",
       "style": "IPY_MODEL_c5001c2659f844c5beb9ccc876803a0c",
       "value": 7241.0
      }
     },
     "bd8783ddf2cb49fab8d129eb282934cf": {
      "model_module": "@jupyter-widgets/controls",
      "model_module_version": "1.5.0",
      "model_name": "DescriptionStyleModel",
      "state": {
       "_model_module": "@jupyter-widgets/controls",
       "_model_module_version": "1.5.0",
       "_model_name": "DescriptionStyleModel",
       "_view_count": null,
       "_view_module": "@jupyter-widgets/base",
       "_view_module_version": "1.2.0",
       "_view_name": "StyleView",
       "description_width": ""
      }
     },
     "c5001c2659f844c5beb9ccc876803a0c": {
      "model_module": "@jupyter-widgets/controls",
      "model_module_version": "1.5.0",
      "model_name": "ProgressStyleModel",
      "state": {
       "_model_module": "@jupyter-widgets/controls",
       "_model_module_version": "1.5.0",
       "_model_name": "ProgressStyleModel",
       "_view_count": null,
       "_view_module": "@jupyter-widgets/base",
       "_view_module_version": "1.2.0",
       "_view_name": "StyleView",
       "bar_color": null,
       "description_width": ""
      }
     },
     "c9f7e70d611448f99fcd69bfab1dad01": {
      "model_module": "@jupyter-widgets/controls",
      "model_module_version": "1.5.0",
      "model_name": "HTMLModel",
      "state": {
       "_dom_classes": [],
       "_model_module": "@jupyter-widgets/controls",
       "_model_module_version": "1.5.0",
       "_model_name": "HTMLModel",
       "_view_count": null,
       "_view_module": "@jupyter-widgets/controls",
       "_view_module_version": "1.5.0",
       "_view_name": "HTMLView",
       "description": "",
       "description_tooltip": null,
       "layout": "IPY_MODEL_8fa435b1b1ef46ce861c1700b9f6d060",
       "placeholder": "​",
       "style": "IPY_MODEL_bd8783ddf2cb49fab8d129eb282934cf",
       "value": "100%"
      }
     },
     "c9fcae7c309b44c2912f4ead491ba137": {
      "model_module": "@jupyter-widgets/controls",
      "model_module_version": "1.5.0",
      "model_name": "HBoxModel",
      "state": {
       "_dom_classes": [],
       "_model_module": "@jupyter-widgets/controls",
       "_model_module_version": "1.5.0",
       "_model_name": "HBoxModel",
       "_view_count": null,
       "_view_module": "@jupyter-widgets/controls",
       "_view_module_version": "1.5.0",
       "_view_name": "HBoxView",
       "box_style": "",
       "children": [
        "IPY_MODEL_c9f7e70d611448f99fcd69bfab1dad01",
        "IPY_MODEL_b15551d3f0754aeeb4e0fe0c85dec9d8",
        "IPY_MODEL_390b887cbe0640389d9402a8d7132a76"
       ],
       "layout": "IPY_MODEL_f96d802a142145589509b0e4af548b22"
      }
     },
     "dc10315b63404a98978036e13c33ab82": {
      "model_module": "@jupyter-widgets/controls",
      "model_module_version": "1.5.0",
      "model_name": "HBoxModel",
      "state": {
       "_dom_classes": [],
       "_model_module": "@jupyter-widgets/controls",
       "_model_module_version": "1.5.0",
       "_model_name": "HBoxModel",
       "_view_count": null,
       "_view_module": "@jupyter-widgets/controls",
       "_view_module_version": "1.5.0",
       "_view_name": "HBoxView",
       "box_style": "",
       "children": [
        "IPY_MODEL_75e90a50c97b4d5da331be2c3397e26f",
        "IPY_MODEL_a17af54e34664829973a5078f70ef392",
        "IPY_MODEL_6e70f7b655744c64ab03cdc342d72f16"
       ],
       "layout": "IPY_MODEL_2953e5228cb94009800af3bbe456880f"
      }
     },
     "de5db00e23024bf4a9416fa5be3f86bc": {
      "model_module": "@jupyter-widgets/base",
      "model_module_version": "1.2.0",
      "model_name": "LayoutModel",
      "state": {
       "_model_module": "@jupyter-widgets/base",
       "_model_module_version": "1.2.0",
       "_model_name": "LayoutModel",
       "_view_count": null,
       "_view_module": "@jupyter-widgets/base",
       "_view_module_version": "1.2.0",
       "_view_name": "LayoutView",
       "align_content": null,
       "align_items": null,
       "align_self": null,
       "border": null,
       "bottom": null,
       "display": null,
       "flex": null,
       "flex_flow": null,
       "grid_area": null,
       "grid_auto_columns": null,
       "grid_auto_flow": null,
       "grid_auto_rows": null,
       "grid_column": null,
       "grid_gap": null,
       "grid_row": null,
       "grid_template_areas": null,
       "grid_template_columns": null,
       "grid_template_rows": null,
       "height": null,
       "justify_content": null,
       "justify_items": null,
       "left": null,
       "margin": null,
       "max_height": null,
       "max_width": null,
       "min_height": null,
       "min_width": null,
       "object_fit": null,
       "object_position": null,
       "order": null,
       "overflow": null,
       "overflow_x": null,
       "overflow_y": null,
       "padding": null,
       "right": null,
       "top": null,
       "visibility": null,
       "width": null
      }
     },
     "de9e9f95f5614ca98d60810ff3d72275": {
      "model_module": "@jupyter-widgets/base",
      "model_module_version": "1.2.0",
      "model_name": "LayoutModel",
      "state": {
       "_model_module": "@jupyter-widgets/base",
       "_model_module_version": "1.2.0",
       "_model_name": "LayoutModel",
       "_view_count": null,
       "_view_module": "@jupyter-widgets/base",
       "_view_module_version": "1.2.0",
       "_view_name": "LayoutView",
       "align_content": null,
       "align_items": null,
       "align_self": null,
       "border": null,
       "bottom": null,
       "display": null,
       "flex": null,
       "flex_flow": null,
       "grid_area": null,
       "grid_auto_columns": null,
       "grid_auto_flow": null,
       "grid_auto_rows": null,
       "grid_column": null,
       "grid_gap": null,
       "grid_row": null,
       "grid_template_areas": null,
       "grid_template_columns": null,
       "grid_template_rows": null,
       "height": null,
       "justify_content": null,
       "justify_items": null,
       "left": null,
       "margin": null,
       "max_height": null,
       "max_width": null,
       "min_height": null,
       "min_width": null,
       "object_fit": null,
       "object_position": null,
       "order": null,
       "overflow": null,
       "overflow_x": null,
       "overflow_y": null,
       "padding": null,
       "right": null,
       "top": null,
       "visibility": null,
       "width": null
      }
     },
     "f96d802a142145589509b0e4af548b22": {
      "model_module": "@jupyter-widgets/base",
      "model_module_version": "1.2.0",
      "model_name": "LayoutModel",
      "state": {
       "_model_module": "@jupyter-widgets/base",
       "_model_module_version": "1.2.0",
       "_model_name": "LayoutModel",
       "_view_count": null,
       "_view_module": "@jupyter-widgets/base",
       "_view_module_version": "1.2.0",
       "_view_name": "LayoutView",
       "align_content": null,
       "align_items": null,
       "align_self": null,
       "border": null,
       "bottom": null,
       "display": null,
       "flex": null,
       "flex_flow": null,
       "grid_area": null,
       "grid_auto_columns": null,
       "grid_auto_flow": null,
       "grid_auto_rows": null,
       "grid_column": null,
       "grid_gap": null,
       "grid_row": null,
       "grid_template_areas": null,
       "grid_template_columns": null,
       "grid_template_rows": null,
       "height": null,
       "justify_content": null,
       "justify_items": null,
       "left": null,
       "margin": null,
       "max_height": null,
       "max_width": null,
       "min_height": null,
       "min_width": null,
       "object_fit": null,
       "object_position": null,
       "order": null,
       "overflow": null,
       "overflow_x": null,
       "overflow_y": null,
       "padding": null,
       "right": null,
       "top": null,
       "visibility": null,
       "width": null
      }
     }
    },
    "version_major": 2,
    "version_minor": 0
   }
  }
 },
 "nbformat": 4,
 "nbformat_minor": 5
}
